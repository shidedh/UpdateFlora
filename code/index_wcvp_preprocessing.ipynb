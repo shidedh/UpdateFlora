{
 "cells": [
  {
   "cell_type": "code",
   "execution_count": 1,
   "metadata": {},
   "outputs": [
    {
     "name": "stderr",
     "output_type": "stream",
     "text": [
      "/opt/homebrew/lib/python3.9/site-packages/fuzzywuzzy/fuzz.py:11: UserWarning: Using slow pure-python SequenceMatcher. Install python-Levenshtein to remove this warning\n",
      "  warnings.warn('Using slow pure-python SequenceMatcher. Install python-Levenshtein to remove this warning')\n"
     ]
    }
   ],
   "source": [
    "import pandas as pd\n",
    "import numpy as np\n",
    "import seaborn as sns\n",
    "import matplotlib.pyplot as plt\n",
    "from cProfile import label #?not sure\n",
    "import re\n",
    "from fuzzywuzzy import fuzz"
   ]
  },
  {
   "cell_type": "code",
   "execution_count": 2,
   "metadata": {},
   "outputs": [],
   "source": [
    "#removing space after authors \n",
    "def fix_author(row):\n",
    "    if not isinstance(row, str) or row[-1] != ' ':\n",
    "        return row\n",
    "    return row[:-1]"
   ]
  },
  {
   "cell_type": "code",
   "execution_count": 3,
   "metadata": {},
   "outputs": [],
   "source": [
    "#This is path to output csv files of the index of each book with they italicized names filtered out\n",
    "vol1_path = '../input/input copy/index_without_itallics_csvs/vol1/vol1_index_pruned.csv'\n",
    "vol2_path = '../input/input copy/index_without_itallics_csvs/vol2/vol2_index_pruned.csv'\n",
    "vol3_path = '../input/input copy/index_without_itallics_csvs/vol3/vol3_index_pruned.csv'\n",
    "\n",
    "vol1_df = pd.read_csv(vol1_path)\n",
    "vol2_df = pd.read_csv(vol2_path)\n",
    "vol3_df = pd.read_csv(vol3_path)\n",
    "\n",
    "#fix spacing issue\n",
    "vol1_df['author'] = vol1_df['author'].apply(fix_author)\n",
    "vol2_df['author'] = vol2_df['author'].apply(fix_author)\n",
    "vol3_df['author'] = vol3_df['author'].apply(fix_author)\n",
    "\n",
    "#changing name of columns \n",
    "vol1_df.rename(columns={'genus': 'mouterde_genus', 'epithet': 'mouterde_epithet', 'author':'mouterde_author', 'infra':'mouterde_infra'}, inplace=True)\n",
    "vol2_df.rename(columns={'genus': 'mouterde_genus', 'epithet': 'mouterde_epithet', 'author':'mouterde_author', 'infra':'mouterde_infra'}, inplace=True)\n",
    "vol3_df.rename(columns={'genus': 'mouterde_genus', 'epithet': 'mouterde_epithet', 'author':'mouterde_author', 'infra':'mouterde_infra'}, inplace=True)\n",
    "\n",
    "#wcvp \n",
    "text_wcvp_path = '../input/input copy/wcvp/wcvp_v9_jun_2022.txt'\n",
    "wcvp_df = pd.read_csv(text_wcvp_path, sep = '|')"
   ]
  },
  {
   "cell_type": "code",
   "execution_count": 4,
   "metadata": {},
   "outputs": [],
   "source": [
    "def get_set(x):\n",
    "    if not isinstance(x, list): #is this the best way\n",
    "        x = []\n",
    "    return set(x)\n",
    "\n",
    "#to use after exploding the authors\n",
    "connectors = {'ex', '&'}\n",
    "def remove_prantheses(x):\n",
    "    if isinstance(x, str):\n",
    "        return re.sub(r'([()])', '', x)\n",
    "    return x"
   ]
  },
  {
   "cell_type": "code",
   "execution_count": 5,
   "metadata": {},
   "outputs": [],
   "source": [
    "def process_wcvp(wcvp_df):\n",
    "    wcvp_df['infraspecies'].replace(np.nan, 'np.NaN', inplace=True)\n",
    "    wcvp_df['species'].replace(np.nan, 'np.NaN', inplace=True)\n",
    "    wcvp_df['authors_set'] = wcvp_df['authors'].str.split(' ').apply(lambda x : get_set(x) - connectors)\n",
    "    wcvp_df_explode = wcvp_df.explode('authors_set')\n",
    "    wcvp_df_explode['authors_set'] = wcvp_df_explode['authors_set'].apply(remove_prantheses) #to remove prantheses\n",
    "    return wcvp_df_explode"
   ]
  }
 ],
 "metadata": {
  "kernelspec": {
   "display_name": "Python 3.9.15 64-bit",
   "language": "python",
   "name": "python3"
  },
  "language_info": {
   "codemirror_mode": {
    "name": "ipython",
    "version": 3
   },
   "file_extension": ".py",
   "mimetype": "text/x-python",
   "name": "python",
   "nbconvert_exporter": "python",
   "pygments_lexer": "ipython3",
   "version": "3.9.15"
  },
  "orig_nbformat": 4,
  "vscode": {
   "interpreter": {
    "hash": "a665b5d41d17b532ea9890333293a1b812fa0b73c9c25c950b3cedf1bebd0438"
   }
  }
 },
 "nbformat": 4,
 "nbformat_minor": 2
}
