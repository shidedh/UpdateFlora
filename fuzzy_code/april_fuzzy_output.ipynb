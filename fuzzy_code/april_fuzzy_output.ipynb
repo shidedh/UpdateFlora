{
 "cells": [
  {
   "cell_type": "code",
   "execution_count": 2,
   "metadata": {},
   "outputs": [
    {
     "name": "stderr",
     "output_type": "stream",
     "text": [
      "/opt/homebrew/lib/python3.10/site-packages/rpy2/robjects/pandas2ri.py:14: FutureWarning: pandas.core.index is deprecated and will be removed in a future version. The public classes are available in the top-level namespace.\n",
      "  from pandas.core.index import Index as PandasIndex\n"
     ]
    }
   ],
   "source": [
    "import rpy2.robjects as ro\n",
    "from rpy2.robjects.packages import importr\n",
    "from rpy2.robjects import pandas2ri\n",
    "pandas2ri.activate()\n",
    "\n",
    "import rpy2.robjects.packages as rpackages\n",
    "from rpy2.robjects.vectors import StrVector\n",
    "\n",
    "import pandas as pd\n",
    "import numpy as np\n",
    "import re\n",
    "from unidecode import unidecode"
   ]
  },
  {
   "cell_type": "markdown",
   "metadata": {},
   "source": [
    "### installing and importing relevant R packages"
   ]
  },
  {
   "cell_type": "code",
   "execution_count": 3,
   "metadata": {},
   "outputs": [],
   "source": [
    "# import R's utility package\n",
    "utils = rpackages.importr('utils')\n",
    "\n",
    "# select a mirror for R packages\n",
    "utils.chooseCRANmirror(ind=1) # select the first mirror in the list\n",
    "\n",
    "# R packages to download:\n",
    "packnames = ('data.table', 'utils', 'stringr', 'dplyr', 'WorldFlora')\n",
    "names_to_install = [x for x in packnames if not rpackages.isinstalled(x)]\n",
    "if len(names_to_install) > 0:\n",
    "    utils.install_packages(StrVector(names_to_install))"
   ]
  },
  {
   "cell_type": "code",
   "execution_count": 4,
   "metadata": {},
   "outputs": [],
   "source": [
    "WorldFlora = importr(\"WorldFlora\")"
   ]
  },
  {
   "cell_type": "markdown",
   "metadata": {},
   "source": [
    "### importing inputs and making modifications"
   ]
  },
  {
   "cell_type": "markdown",
   "metadata": {},
   "source": [
    "#### mouterde"
   ]
  },
  {
   "cell_type": "code",
   "execution_count": 5,
   "metadata": {},
   "outputs": [],
   "source": [
    "vol1_path = '../output/local/index_output/vol1_nonitalics.csv'\n",
    "vol2_path = '../output/local/index_output/vol2_nonitalics.csv'\n",
    "vol3_path = '../output/local/index_output/vol3_nonitalics.csv'\n",
    "\n",
    "vol1_df = pd.read_csv(vol1_path)\n",
    "vol2_df = pd.read_csv(vol2_path)\n",
    "vol3_df = pd.read_csv(vol3_path)\n",
    "\n",
    "#changing name of columns of mout. indecies \n",
    "vol1_df.rename(columns={'closest_genus': 'mouterde_genus', 'closest_epithet': 'mouterde_epithet', 'authors':'mouterde_author', 'closest_infra_name':'mouterde_infra'}, inplace=True)\n",
    "vol2_df.rename(columns={'closest_genus': 'mouterde_genus', 'closest_epithet': 'mouterde_epithet', 'authors':'mouterde_author', 'closest_infra_name':'mouterde_infra'}, inplace=True)\n",
    "vol3_df.rename(columns={'closest_genus': 'mouterde_genus', 'closest_epithet': 'mouterde_epithet', 'authors':'mouterde_author', 'closest_infra_name':'mouterde_infra'}, inplace=True)\n"
   ]
  },
  {
   "cell_type": "code",
   "execution_count": 6,
   "metadata": {},
   "outputs": [],
   "source": [
    "vol1_df.replace(np.NaN, \"\", inplace=True)\n",
    "vol2_df.replace(np.NaN, \"\", inplace=True)\n",
    "vol3_df.replace(np.NaN, \"\", inplace=True)"
   ]
  },
  {
   "cell_type": "code",
   "execution_count": 7,
   "metadata": {},
   "outputs": [],
   "source": [
    "def get_taxon_name(row):\n",
    "    name = \"\"\n",
    "    mouterde_genus = row['mouterde_genus']\n",
    "    mouterde_epithet = row['mouterde_epithet']\n",
    "    mouterde_infra = row['mouterde_infra']\n",
    "    if mouterde_genus != \"\":\n",
    "        name += f\"{mouterde_genus}\"\n",
    "    if mouterde_epithet != \"\":\n",
    "        name += f\" {mouterde_epithet}\"\n",
    "    if mouterde_infra != \"\":\n",
    "        name += f\" {mouterde_infra}\"\n",
    "    return name"
   ]
  },
  {
   "cell_type": "code",
   "execution_count": 8,
   "metadata": {},
   "outputs": [],
   "source": [
    "vol1_df['mouterde_name'] = vol1_df.apply(get_taxon_name,axis=1).apply(unidecode)\n",
    "vol2_df['mouterde_name'] = vol2_df.apply(get_taxon_name,axis=1).apply(unidecode)\n",
    "vol3_df['mouterde_name'] = vol3_df.apply(get_taxon_name,axis=1).apply(unidecode)"
   ]
  },
  {
   "cell_type": "code",
   "execution_count": 9,
   "metadata": {},
   "outputs": [],
   "source": [
    "vol1_df['mouterde_author'] = vol1_df['mouterde_author'].apply(unidecode)\n",
    "vol2_df['mouterde_author'] = vol2_df['mouterde_author'].apply(unidecode)\n",
    "vol3_df['mouterde_author'] = vol3_df['mouterde_author'].apply(unidecode)"
   ]
  },
  {
   "cell_type": "markdown",
   "metadata": {},
   "source": [
    "#### wcvp"
   ]
  },
  {
   "cell_type": "code",
   "execution_count": 10,
   "metadata": {},
   "outputs": [],
   "source": [
    "text_wcvp_path = '../input/input copy/wcvp/wcvp_v9_jun_2022.txt'\n",
    "wcvp_df = pd.read_csv(text_wcvp_path, sep = '|')"
   ]
  },
  {
   "cell_type": "code",
   "execution_count": 11,
   "metadata": {},
   "outputs": [],
   "source": [
    "wcvp_df['taxon_name'] = wcvp_df['taxon_name'].str.replace(\" × \", \" ×\").apply(unidecode)\n",
    "wcvp_df.replace(np.NaN, \"\", inplace=True)"
   ]
  },
  {
   "cell_type": "code",
   "execution_count": 12,
   "metadata": {},
   "outputs": [
    {
     "name": "stderr",
     "output_type": "stream",
     "text": [
      "/opt/homebrew/lib/python3.10/site-packages/rpy2/robjects/pandas2ri.py:53: FutureWarning: iteritems is deprecated and will be removed in a future version. Use .items instead.\n",
      "  for name, values in obj.iteritems():\n"
     ]
    }
   ],
   "source": [
    "WCVP_data = WorldFlora.new_backbone(wcvp_df, \n",
    "                          taxonID=\"kew_id\",\n",
    "                          scientificName=\"taxon_name\",\n",
    "                          scientificNameAuthorship=\"authors\",\n",
    "                          acceptedNameUsageID = \"accepted_kew_id\",\n",
    "                          taxonomicStatus = \"taxonomic_status\")"
   ]
  },
  {
   "cell_type": "code",
   "execution_count": 40,
   "metadata": {},
   "outputs": [
    {
     "data": {
      "text/plain": [
       "321697     GENUS\n",
       "321698     GENUS\n",
       "321699     GENUS\n",
       "321700     GENUS\n",
       "321701     GENUS\n",
       "321702     GENUS\n",
       "333004     GENUS\n",
       "333005     GENUS\n",
       "333095     GENUS\n",
       "335774     GENUS\n",
       "336319     GENUS\n",
       "337090     GENUS\n",
       "337927     GENUS\n",
       "338515     GENUS\n",
       "341255     GENUS\n",
       "341288     GENUS\n",
       "345186     GENUS\n",
       "345206     GENUS\n",
       "347950     GENUS\n",
       "351801     GENUS\n",
       "551412     GENUS\n",
       "1076298    GENUS\n",
       "1078493    GENUS\n",
       "1083989    GENUS\n",
       "1083990    GENUS\n",
       "1088421    GENUS\n",
       "1088422    GENUS\n",
       "1088424    GENUS\n",
       "Name: rank, dtype: object"
      ]
     },
     "execution_count": 40,
     "metadata": {},
     "output_type": "execute_result"
    }
   ],
   "source": [
    "keep = WCVP_data[WCVP_data['rank'] == 'GENUS']['scientificName'].str.contains(' ') == True\n",
    "WCVP_data[(WCVP_data['rank'] == 'GENUS') & (WCVP_data['scientificName'].str.contains(' ')) & (~(WCVP_data['scientificName'].str.contains('x')))]['rank']"
   ]
  },
  {
   "cell_type": "markdown",
   "metadata": {},
   "source": [
    "### running WorldFlor matching for genera"
   ]
  },
  {
   "cell_type": "code",
   "execution_count": null,
   "metadata": {},
   "outputs": [],
   "source": [
    "vol1_genus = vol1_genus = vol1_df[vol1_df['taxon_rank'] == 'genus']"
   ]
  },
  {
   "cell_type": "code",
   "execution_count": null,
   "metadata": {},
   "outputs": [],
   "source": [
    "\n",
    "vol1_genus_match_db = WorldFlora.WFO_one(WorldFlora.WFO_match(vol1_genus, \n",
    "                                         WFO_data = WCVP_genus_data, \n",
    "                                         spec_name = \"mouterde_name\"))"
   ]
  }
 ],
 "metadata": {
  "kernelspec": {
   "display_name": "Python 3.10.10 64-bit",
   "language": "python",
   "name": "python3"
  },
  "language_info": {
   "codemirror_mode": {
    "name": "ipython",
    "version": 3
   },
   "file_extension": ".py",
   "mimetype": "text/x-python",
   "name": "python",
   "nbconvert_exporter": "python",
   "pygments_lexer": "ipython3",
   "version": "3.10.10"
  },
  "orig_nbformat": 4,
  "vscode": {
   "interpreter": {
    "hash": "bd385fe162c5ca0c84973b7dd5c518456272446b2b64e67c2a69f949ca7a1754"
   }
  }
 },
 "nbformat": 4,
 "nbformat_minor": 2
}
