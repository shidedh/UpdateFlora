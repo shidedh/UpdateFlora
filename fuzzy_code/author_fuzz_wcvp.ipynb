{
 "cells": [
  {
   "cell_type": "code",
   "execution_count": 15,
   "metadata": {},
   "outputs": [],
   "source": [
    "import pandas as pd\n",
    "import numpy as np\n",
    "import seaborn as sns\n",
    "import matplotlib.pyplot as plt\n",
    "from cProfile import label #?not sure\n",
    "import re\n",
    "from fuzzywuzzy import fuzz\n",
    "\n",
    "import difflib \n",
    "from fuzzywuzzy import process\n"
   ]
  },
  {
   "cell_type": "markdown",
   "metadata": {},
   "source": [
    "### Feb 17 todo list:\n",
    "\n",
    "- import basics from extract flora code\n",
    "- organize fuzzy matching authors \n",
    "    - function for splitting authors into sets\n",
    "    - functions for exact matching species name and fuzzy matching authors\n",
    "    - functions for getting the match types "
   ]
  },
  {
   "cell_type": "markdown",
   "metadata": {},
   "source": [
    "### importing books and WCVP"
   ]
  },
  {
   "cell_type": "code",
   "execution_count": 2,
   "metadata": {},
   "outputs": [],
   "source": [
    "# to fix unnecessary space at the end of authors (will fix index files later)\n",
    "def fix_author(row):\n",
    "    if not isinstance(row, str) or row[-1] != ' ':\n",
    "        return row\n",
    "    return row[:-1]"
   ]
  },
  {
   "cell_type": "code",
   "execution_count": 7,
   "metadata": {},
   "outputs": [],
   "source": [
    "vol1_path = '../input/input copy/index_without_itallics_csvs/vol1/vol1_index_pruned.csv'\n",
    "vol2_path = '../input/input copy/index_without_itallics_csvs/vol2/vol2_index_pruned.csv'\n",
    "vol3_path = '../input/input copy/index_without_itallics_csvs/vol3/vol3_index_pruned.csv'\n",
    "\n",
    "vol1_df = pd.read_csv(vol1_path)\n",
    "vol2_df = pd.read_csv(vol2_path)\n",
    "vol3_df = pd.read_csv(vol3_path)\n",
    "\n",
    "#fix spacing issue\n",
    "vol1_df['author'] = vol1_df['author'].apply(fix_author)\n",
    "vol2_df['author'] = vol2_df['author'].apply(fix_author)\n",
    "vol3_df['author'] = vol3_df['author'].apply(fix_author)\n",
    "\n",
    "#changing name of columns \n",
    "vol1_df.rename(columns={'genus': 'mouterde_genus', 'epithet': 'mouterde_epithet', 'author':'mouterde_author', 'infra':'mouterde_infra'}, inplace=True)\n",
    "vol2_df.rename(columns={'genus': 'mouterde_genus', 'epithet': 'mouterde_epithet', 'author':'mouterde_author', 'infra':'mouterde_infra'}, inplace=True)\n",
    "vol3_df.rename(columns={'genus': 'mouterde_genus', 'epithet': 'mouterde_epithet', 'author':'mouterde_author', 'infra':'mouterde_infra'}, inplace=True)\n",
    "\n",
    "#wcvp \n",
    "text_wcvp_path = '../input/input copy/wcvp/wcvp_v9_jun_2022.txt'\n",
    "wcvp_df = pd.read_csv(text_wcvp_path, sep = '|')"
   ]
  },
  {
   "cell_type": "markdown",
   "metadata": {},
   "source": [
    "### process wcvp (explode authors)"
   ]
  },
  {
   "cell_type": "code",
   "execution_count": 22,
   "metadata": {},
   "outputs": [],
   "source": [
    "def get_set(x):\n",
    "    if not isinstance(x, list): #is this the best way\n",
    "        x = []\n",
    "    return set(x)\n",
    "\n",
    "#to use after exploding the authors\n",
    "connectors = {'ex', '&', 'et'}\n",
    "def remove_prantheses(x):\n",
    "    if isinstance(x, str):\n",
    "        return re.sub(r'([()])', '', x)\n",
    "    return x\n",
    "\n",
    "def process_wcvp(wcvp_df):\n",
    "    wcvp_df['infraspecies'].replace(np.nan, 'np.NaN', inplace=True)\n",
    "    wcvp_df['species'].replace(np.nan, 'np.NaN', inplace=True)\n",
    "    wcvp_df['authors_set'] = wcvp_df['authors'].str.split(' ').apply(lambda x : get_set(x) - connectors)\n",
    "    wcvp_df_explode = wcvp_df.explode('authors_set')\n",
    "    wcvp_df_explode['authors_set'] = wcvp_df_explode['authors_set'].apply(remove_prantheses) #to remove prantheses\n",
    "    return wcvp_df_explode\n",
    "\n",
    "wcvp_df_explode = process_wcvp(wcvp_df)"
   ]
  },
  {
   "cell_type": "markdown",
   "metadata": {},
   "source": [
    "### process vols (explore authors)\n",
    "\n",
    "just doing the set process during matching"
   ]
  },
  {
   "cell_type": "code",
   "execution_count": 23,
   "metadata": {},
   "outputs": [],
   "source": [
    "\"\"\"def process_vols(df):\n",
    "    delimeter = ' ' #TODO: FIX this absolutely HORRIBLE delimeter \n",
    "    df['authors_set'] = df['mouterde_author'].str.split(delimeter).apply(lambda x : get_set(x) - connectors)\n",
    "    df_explode = df.explode('authors_set')\n",
    "    df_explode['authors_set'] = df_explode['authors_set'].apply(remove_prantheses) #to remove prantheses\n",
    "    return df_explode\"\"\""
   ]
  },
  {
   "cell_type": "code",
   "execution_count": 26,
   "metadata": {},
   "outputs": [],
   "source": [
    "\"\"\"vol1_explode = process_vols(vol1_df)\n",
    "vol2_explode = process_vols(vol2_df)\n",
    "vol3_explode = process_vols(vol3_df)\"\"\""
   ]
  },
  {
   "cell_type": "markdown",
   "metadata": {},
   "source": [
    "### Get Closest Match"
   ]
  },
  {
   "cell_type": "markdown",
   "metadata": {},
   "source": [
    "## UNTITLED "
   ]
  },
  {
   "cell_type": "code",
   "execution_count": 101,
   "metadata": {},
   "outputs": [],
   "source": [
    "def get_closest_match(r):\n",
    "    m_author = r['mouterde_author'] \n",
    "    genus = r['mouterde_genus']\n",
    "    epithet = r['mouterde_epithet']\n",
    "    infra = r['mouterde_infra']\n",
    "    wcvp_df_gs_match = wcvp_df[(wcvp_df['genus'] == genus) & (wcvp_df['species'] == epithet) & (wcvp_df['infraspecies'] == infra)]\n",
    "    \n",
    "    possible_author = []\n",
    "\n",
    "    #this doesn't work as is but here's the idea \n",
    "    \n",
    "    if isinstance(m_author, str):\n",
    "        m_author_set = list(get_set(m_author.split(' ')) - connectors)\n",
    "        for author in m_author_set:\n",
    "            #print(author, process.extract(author, wcvp_df_gs_match['authors_set']))\n",
    "            try:\n",
    "                author_match, author_score, _ = process.extract(author, wcvp_df_gs_match['authors_set'])[0]\n",
    "                print(author, author_match, author_score)\n",
    "                if author_score >= 85:\n",
    "                    possible_author.append(author_match)\n",
    "            except:\n",
    "                possible_author.append(np.nan)\n",
    "        #author_match = difflib.get_close_matches(m_author, wcvp_df_gs_match['authors'])\n",
    "    else:\n",
    "        possible_author.append(np.nan)\n",
    "    return possible_author"
   ]
  },
  {
   "cell_type": "code",
   "execution_count": 102,
   "metadata": {},
   "outputs": [
    {
     "name": "stdout",
     "output_type": "stream",
     "text": [
      "Less.' {'Less.'} 100\n",
      "Less. {'Less.'} 100\n",
      "Boiss. {'Boiss.'} 100\n",
      "(Willd.) {'(Willd.)', 'Boiss.'} 90\n",
      "Boiss. {'(Willd.)', 'Boiss.'} 90\n",
      "Mout. {'Mouterde'} 90\n",
      "Mobayen {'Mobayen'} 100\n",
      "Boiss. {'Boiss.'} 100\n",
      "(Schultes) {'(Willd.', 'Boiss.', 'Schult.)'} 77\n",
      "Boiss. {'(Willd.', 'Boiss.', 'Schult.)'} 90\n",
      "L. {'L.'} 100\n",
      "L. {'L.'} 100\n",
      "L. {'L.'} 100\n",
      "Boiss. {'Boiss.'} 100\n",
      "L. {'L.'} 100\n",
      "DC. {'DC.'} 100\n",
      "np.NaN set() 0\n",
      "Afan. {'Afanasiev'} 90\n",
      "DC. {'DC.'} 100\n",
      "L. {'L.'} 100\n",
      "Schultz {'Sch.Bip.', '(Forssk.)'} 51\n",
      "Bip. {'Sch.Bip.', '(Forssk.)'} 90\n",
      "(Forssk.) {'Sch.Bip.', '(Forssk.)'} 90\n",
      "Boiss. {'Boiss.'} 100\n",
      "(Labili.). {'DC.'} 0\n",
      "DC. {'DC.'} 100\n",
      "DC. {'DC.'} 100\n",
      "Koch {'K.Koch'} 90\n",
      "C. {'K.Koch'} 90\n",
      "Cass. {'Cass.'} 100\n",
      "Cass. {'Cass.', '(L.)'} 90\n",
      "(L.) {'Cass.', '(L.)'} 60\n",
      "L. {'L.'} 100\n",
      "Davis {'P.H.Davis'} 90\n",
      "Schreb. {'Schreb.'} 100\n",
      "Boiss. {'Boiss.'} 100\n",
      "L. {'L.'} 100\n",
      "Bilik {'Bilik'} 100\n",
      "Benth. {'Benth.', 'Ging.'} 90\n",
      "Gingins {'Benth.', 'Ging.'} 66\n",
      "Tausch {'Tausch'} 100\n",
      "Sam. {'Sam.', 'Rech.f.'} 90\n",
      "Rech. {'Sam.', 'Rech.f.'} 90\n",
      "fil. {'Sam.', 'Rech.f.'} 45\n",
      "Boiss. {'Boiss.'} 100\n",
      "DC. {'A.DC.', '(Bertol.)'} 90\n",
      "(Bertol.) {'A.DC.', '(Bertol.)'} 90\n",
      "A. {'A.DC.', '(Bertol.)'} 60\n",
      "DC. {'A.DC.'} 90\n",
      "Rech. {'Rech.f.'} 90\n",
      "fil. {'Rech.f.'} 45\n",
      "Bornm. {'Bornm.'} 100\n",
      "(L.) {'(L.)', 'Boiss.'} 60\n",
      "Boiss. {'(L.)', 'Boiss.'} 90\n",
      "(Post) {'(Post)', 'Greuter', 'Charpin', 'Mouterde'} 60\n",
      "Mout. {'(Post)', 'Greuter', 'Charpin', 'Mouterde'} 60\n",
      "Rech. {'Rech.f.'} 90\n",
      "fil. {'Rech.f.'} 45\n",
      "Hohen. {'Hohen.', 'Boiss.'} 90\n",
      "Boiss. {'Hohen.', 'Boiss.'} 90\n",
      "Tausch {'Tausch'} 100\n",
      "L. {'L.'} 100\n",
      "L. {'L.'} 100\n",
      "L. {'L.'} 100\n",
      "(Desf.) {'(Desf.)', 'Pers.'} 90\n",
      "Pers. {'(Desf.)', 'Pers.'} 90\n",
      "Boiss. {'Boiss.'} 100\n",
      "Loisel. {'Loisel.'} 100\n",
      "L. {'L.'} 100\n",
      "L. {'L.'} 100\n",
      "Desf. {'Desf.'} 100\n",
      "Benth. {'Benth.'} 100\n",
      "L. {'L.'} 100\n",
      "(L.) {'A.DC.', '(L.)'} 60\n",
      "DC. {'A.DC.', '(L.)'} 90\n",
      "Mill. {'Mill.'} 100\n"
     ]
    },
    {
     "ename": "KeyboardInterrupt",
     "evalue": "",
     "output_type": "error",
     "traceback": [
      "\u001b[0;31m---------------------------------------------------------------------------\u001b[0m",
      "\u001b[0;31mKeyboardInterrupt\u001b[0m                         Traceback (most recent call last)",
      "\u001b[1;32m/Users/shidedehghani/Desktop/UpdateFlora/fuzzy_code/author_fuzz_wcvp.ipynb Cell 14\u001b[0m in \u001b[0;36m<cell line: 1>\u001b[0;34m()\u001b[0m\n\u001b[0;32m----> <a href='vscode-notebook-cell:/Users/shidedehghani/Desktop/UpdateFlora/fuzzy_code/author_fuzz_wcvp.ipynb#ch0000039?line=0'>1</a>\u001b[0m vol3_df[\u001b[39m'\u001b[39m\u001b[39mclosest_wcvp_match\u001b[39m\u001b[39m'\u001b[39m] \u001b[39m=\u001b[39m vol3_df\u001b[39m.\u001b[39;49mapply(get_closest_match, axis \u001b[39m=\u001b[39;49m \u001b[39m1\u001b[39;49m)\n",
      "File \u001b[0;32m/opt/homebrew/lib/python3.9/site-packages/pandas/core/frame.py:8845\u001b[0m, in \u001b[0;36mDataFrame.apply\u001b[0;34m(self, func, axis, raw, result_type, args, **kwargs)\u001b[0m\n\u001b[1;32m   8834\u001b[0m \u001b[39mfrom\u001b[39;00m \u001b[39mpandas\u001b[39;00m\u001b[39m.\u001b[39;00m\u001b[39mcore\u001b[39;00m\u001b[39m.\u001b[39;00m\u001b[39mapply\u001b[39;00m \u001b[39mimport\u001b[39;00m frame_apply\n\u001b[1;32m   8836\u001b[0m op \u001b[39m=\u001b[39m frame_apply(\n\u001b[1;32m   8837\u001b[0m     \u001b[39mself\u001b[39m,\n\u001b[1;32m   8838\u001b[0m     func\u001b[39m=\u001b[39mfunc,\n\u001b[0;32m   (...)\u001b[0m\n\u001b[1;32m   8843\u001b[0m     kwargs\u001b[39m=\u001b[39mkwargs,\n\u001b[1;32m   8844\u001b[0m )\n\u001b[0;32m-> 8845\u001b[0m \u001b[39mreturn\u001b[39;00m op\u001b[39m.\u001b[39;49mapply()\u001b[39m.\u001b[39m__finalize__(\u001b[39mself\u001b[39m, method\u001b[39m=\u001b[39m\u001b[39m\"\u001b[39m\u001b[39mapply\u001b[39m\u001b[39m\"\u001b[39m)\n",
      "File \u001b[0;32m/opt/homebrew/lib/python3.9/site-packages/pandas/core/apply.py:733\u001b[0m, in \u001b[0;36mFrameApply.apply\u001b[0;34m(self)\u001b[0m\n\u001b[1;32m    730\u001b[0m \u001b[39melif\u001b[39;00m \u001b[39mself\u001b[39m\u001b[39m.\u001b[39mraw:\n\u001b[1;32m    731\u001b[0m     \u001b[39mreturn\u001b[39;00m \u001b[39mself\u001b[39m\u001b[39m.\u001b[39mapply_raw()\n\u001b[0;32m--> 733\u001b[0m \u001b[39mreturn\u001b[39;00m \u001b[39mself\u001b[39;49m\u001b[39m.\u001b[39;49mapply_standard()\n",
      "File \u001b[0;32m/opt/homebrew/lib/python3.9/site-packages/pandas/core/apply.py:857\u001b[0m, in \u001b[0;36mFrameApply.apply_standard\u001b[0;34m(self)\u001b[0m\n\u001b[1;32m    856\u001b[0m \u001b[39mdef\u001b[39;00m \u001b[39mapply_standard\u001b[39m(\u001b[39mself\u001b[39m):\n\u001b[0;32m--> 857\u001b[0m     results, res_index \u001b[39m=\u001b[39m \u001b[39mself\u001b[39;49m\u001b[39m.\u001b[39;49mapply_series_generator()\n\u001b[1;32m    859\u001b[0m     \u001b[39m# wrap results\u001b[39;00m\n\u001b[1;32m    860\u001b[0m     \u001b[39mreturn\u001b[39;00m \u001b[39mself\u001b[39m\u001b[39m.\u001b[39mwrap_results(results, res_index)\n",
      "File \u001b[0;32m/opt/homebrew/lib/python3.9/site-packages/pandas/core/apply.py:873\u001b[0m, in \u001b[0;36mFrameApply.apply_series_generator\u001b[0;34m(self)\u001b[0m\n\u001b[1;32m    870\u001b[0m \u001b[39mwith\u001b[39;00m option_context(\u001b[39m\"\u001b[39m\u001b[39mmode.chained_assignment\u001b[39m\u001b[39m\"\u001b[39m, \u001b[39mNone\u001b[39;00m):\n\u001b[1;32m    871\u001b[0m     \u001b[39mfor\u001b[39;00m i, v \u001b[39min\u001b[39;00m \u001b[39menumerate\u001b[39m(series_gen):\n\u001b[1;32m    872\u001b[0m         \u001b[39m# ignore SettingWithCopy here in case the user mutates\u001b[39;00m\n\u001b[0;32m--> 873\u001b[0m         results[i] \u001b[39m=\u001b[39m \u001b[39mself\u001b[39;49m\u001b[39m.\u001b[39;49mf(v)\n\u001b[1;32m    874\u001b[0m         \u001b[39mif\u001b[39;00m \u001b[39misinstance\u001b[39m(results[i], ABCSeries):\n\u001b[1;32m    875\u001b[0m             \u001b[39m# If we have a view on v, we need to make a copy because\u001b[39;00m\n\u001b[1;32m    876\u001b[0m             \u001b[39m#  series_generator will swap out the underlying data\u001b[39;00m\n\u001b[1;32m    877\u001b[0m             results[i] \u001b[39m=\u001b[39m results[i]\u001b[39m.\u001b[39mcopy(deep\u001b[39m=\u001b[39m\u001b[39mFalse\u001b[39;00m)\n",
      "\u001b[1;32m/Users/shidedehghani/Desktop/UpdateFlora/fuzzy_code/author_fuzz_wcvp.ipynb Cell 14\u001b[0m in \u001b[0;36mget_closest_match\u001b[0;34m(r)\u001b[0m\n\u001b[1;32m      <a href='vscode-notebook-cell:/Users/shidedehghani/Desktop/UpdateFlora/fuzzy_code/author_fuzz_wcvp.ipynb#ch0000039?line=3'>4</a>\u001b[0m epithet \u001b[39m=\u001b[39m r[\u001b[39m'\u001b[39m\u001b[39mmouterde_epithet\u001b[39m\u001b[39m'\u001b[39m]\n\u001b[1;32m      <a href='vscode-notebook-cell:/Users/shidedehghani/Desktop/UpdateFlora/fuzzy_code/author_fuzz_wcvp.ipynb#ch0000039?line=4'>5</a>\u001b[0m infra \u001b[39m=\u001b[39m r[\u001b[39m'\u001b[39m\u001b[39mmouterde_infra\u001b[39m\u001b[39m'\u001b[39m]\n\u001b[0;32m----> <a href='vscode-notebook-cell:/Users/shidedehghani/Desktop/UpdateFlora/fuzzy_code/author_fuzz_wcvp.ipynb#ch0000039?line=5'>6</a>\u001b[0m wcvp_df_gs_match \u001b[39m=\u001b[39m wcvp_df[(wcvp_df[\u001b[39m'\u001b[39;49m\u001b[39mgenus\u001b[39;49m\u001b[39m'\u001b[39;49m] \u001b[39m==\u001b[39;49m genus) \u001b[39m&\u001b[39m (wcvp_df[\u001b[39m'\u001b[39m\u001b[39mspecies\u001b[39m\u001b[39m'\u001b[39m] \u001b[39m==\u001b[39m epithet) \u001b[39m&\u001b[39m (wcvp_df[\u001b[39m'\u001b[39m\u001b[39minfraspecies\u001b[39m\u001b[39m'\u001b[39m] \u001b[39m==\u001b[39m infra)]\n\u001b[1;32m      <a href='vscode-notebook-cell:/Users/shidedehghani/Desktop/UpdateFlora/fuzzy_code/author_fuzz_wcvp.ipynb#ch0000039?line=7'>8</a>\u001b[0m possible_author \u001b[39m=\u001b[39m []\n\u001b[1;32m     <a href='vscode-notebook-cell:/Users/shidedehghani/Desktop/UpdateFlora/fuzzy_code/author_fuzz_wcvp.ipynb#ch0000039?line=9'>10</a>\u001b[0m \u001b[39m#this doesn't work as is but here's the idea \u001b[39;00m\n",
      "File \u001b[0;32m/opt/homebrew/lib/python3.9/site-packages/pandas/core/ops/common.py:70\u001b[0m, in \u001b[0;36m_unpack_zerodim_and_defer.<locals>.new_method\u001b[0;34m(self, other)\u001b[0m\n\u001b[1;32m     66\u001b[0m             \u001b[39mreturn\u001b[39;00m \u001b[39mNotImplemented\u001b[39m\n\u001b[1;32m     68\u001b[0m other \u001b[39m=\u001b[39m item_from_zerodim(other)\n\u001b[0;32m---> 70\u001b[0m \u001b[39mreturn\u001b[39;00m method(\u001b[39mself\u001b[39;49m, other)\n",
      "File \u001b[0;32m/opt/homebrew/lib/python3.9/site-packages/pandas/core/arraylike.py:40\u001b[0m, in \u001b[0;36mOpsMixin.__eq__\u001b[0;34m(self, other)\u001b[0m\n\u001b[1;32m     38\u001b[0m \u001b[39m@unpack_zerodim_and_defer\u001b[39m(\u001b[39m\"\u001b[39m\u001b[39m__eq__\u001b[39m\u001b[39m\"\u001b[39m)\n\u001b[1;32m     39\u001b[0m \u001b[39mdef\u001b[39;00m \u001b[39m__eq__\u001b[39m(\u001b[39mself\u001b[39m, other):\n\u001b[0;32m---> 40\u001b[0m     \u001b[39mreturn\u001b[39;00m \u001b[39mself\u001b[39;49m\u001b[39m.\u001b[39;49m_cmp_method(other, operator\u001b[39m.\u001b[39;49meq)\n",
      "File \u001b[0;32m/opt/homebrew/lib/python3.9/site-packages/pandas/core/series.py:5623\u001b[0m, in \u001b[0;36mSeries._cmp_method\u001b[0;34m(self, other, op)\u001b[0m\n\u001b[1;32m   5620\u001b[0m rvalues \u001b[39m=\u001b[39m extract_array(other, extract_numpy\u001b[39m=\u001b[39m\u001b[39mTrue\u001b[39;00m, extract_range\u001b[39m=\u001b[39m\u001b[39mTrue\u001b[39;00m)\n\u001b[1;32m   5622\u001b[0m \u001b[39mwith\u001b[39;00m np\u001b[39m.\u001b[39merrstate(\u001b[39mall\u001b[39m\u001b[39m=\u001b[39m\u001b[39m\"\u001b[39m\u001b[39mignore\u001b[39m\u001b[39m\"\u001b[39m):\n\u001b[0;32m-> 5623\u001b[0m     res_values \u001b[39m=\u001b[39m ops\u001b[39m.\u001b[39;49mcomparison_op(lvalues, rvalues, op)\n\u001b[1;32m   5625\u001b[0m \u001b[39mreturn\u001b[39;00m \u001b[39mself\u001b[39m\u001b[39m.\u001b[39m_construct_result(res_values, name\u001b[39m=\u001b[39mres_name)\n",
      "File \u001b[0;32m/opt/homebrew/lib/python3.9/site-packages/pandas/core/ops/array_ops.py:283\u001b[0m, in \u001b[0;36mcomparison_op\u001b[0;34m(left, right, op)\u001b[0m\n\u001b[1;32m    280\u001b[0m     \u001b[39mreturn\u001b[39;00m invalid_comparison(lvalues, rvalues, op)\n\u001b[1;32m    282\u001b[0m \u001b[39melif\u001b[39;00m is_object_dtype(lvalues\u001b[39m.\u001b[39mdtype) \u001b[39mor\u001b[39;00m \u001b[39misinstance\u001b[39m(rvalues, \u001b[39mstr\u001b[39m):\n\u001b[0;32m--> 283\u001b[0m     res_values \u001b[39m=\u001b[39m comp_method_OBJECT_ARRAY(op, lvalues, rvalues)\n\u001b[1;32m    285\u001b[0m \u001b[39melse\u001b[39;00m:\n\u001b[1;32m    286\u001b[0m     res_values \u001b[39m=\u001b[39m _na_arithmetic_op(lvalues, rvalues, op, is_cmp\u001b[39m=\u001b[39m\u001b[39mTrue\u001b[39;00m)\n",
      "File \u001b[0;32m/opt/homebrew/lib/python3.9/site-packages/pandas/core/ops/array_ops.py:73\u001b[0m, in \u001b[0;36mcomp_method_OBJECT_ARRAY\u001b[0;34m(op, x, y)\u001b[0m\n\u001b[1;32m     71\u001b[0m     result \u001b[39m=\u001b[39m libops\u001b[39m.\u001b[39mvec_compare(x\u001b[39m.\u001b[39mravel(), y\u001b[39m.\u001b[39mravel(), op)\n\u001b[1;32m     72\u001b[0m \u001b[39melse\u001b[39;00m:\n\u001b[0;32m---> 73\u001b[0m     result \u001b[39m=\u001b[39m libops\u001b[39m.\u001b[39;49mscalar_compare(x\u001b[39m.\u001b[39;49mravel(), y, op)\n\u001b[1;32m     74\u001b[0m \u001b[39mreturn\u001b[39;00m result\u001b[39m.\u001b[39mreshape(x\u001b[39m.\u001b[39mshape)\n",
      "\u001b[0;31mKeyboardInterrupt\u001b[0m: "
     ]
    }
   ],
   "source": [
    "vol3_df['closest_wcvp_match'] = vol3_df.apply(get_closest_match, axis = 1)\n"
   ]
  },
  {
   "cell_type": "code",
   "execution_count": 87,
   "metadata": {},
   "outputs": [
    {
     "name": "stdout",
     "output_type": "stream",
     "text": [
      "vol1 complete\n",
      "vol2 complete\n",
      "vol3 complete\n"
     ]
    }
   ],
   "source": [
    "vol1_df['closest_wcvp_match'] = vol1_df.apply(get_closest_match, axis = 1)\n",
    "print(\"vol1 complete\")\n",
    "vol2_df['closest_wcvp_match'] = vol2_df.apply(get_closest_match, axis = 1)\n",
    "print(\"vol2 complete\")\n",
    "vol3_df['closest_wcvp_match'] = vol3_df.apply(get_closest_match, axis = 1)\n",
    "print(\"vol3 complete\")"
   ]
  },
  {
   "cell_type": "code",
   "execution_count": null,
   "metadata": {},
   "outputs": [],
   "source": []
  }
 ],
 "metadata": {
  "kernelspec": {
   "display_name": "Python 3.9.15 64-bit",
   "language": "python",
   "name": "python3"
  },
  "language_info": {
   "codemirror_mode": {
    "name": "ipython",
    "version": 3
   },
   "file_extension": ".py",
   "mimetype": "text/x-python",
   "name": "python",
   "nbconvert_exporter": "python",
   "pygments_lexer": "ipython3",
   "version": "3.9.15"
  },
  "orig_nbformat": 4,
  "vscode": {
   "interpreter": {
    "hash": "a665b5d41d17b532ea9890333293a1b812fa0b73c9c25c950b3cedf1bebd0438"
   }
  }
 },
 "nbformat": 4,
 "nbformat_minor": 2
}
