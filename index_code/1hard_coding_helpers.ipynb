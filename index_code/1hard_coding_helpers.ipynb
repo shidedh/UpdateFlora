{
 "cells": [
  {
   "cell_type": "code",
   "execution_count": 1,
   "metadata": {},
   "outputs": [],
   "source": [
    "import fitz\n",
    "import numpy as np\n",
    "import pandas as pd\n",
    "from tqdm import tqdm\n",
    "\n",
    "import io\n",
    "from PIL import Image, ImageDraw, ImageFont, ImageColor\n",
    "\n",
    "import math\n",
    "import re"
   ]
  },
  {
   "cell_type": "code",
   "execution_count": null,
   "metadata": {},
   "outputs": [
    {
     "ename": "",
     "evalue": "",
     "output_type": "error",
     "traceback": [
      "\u001b[1;31mJupyter cannot be started. Error attempting to locate Jupyter: Select an Interpreter to start Jupyter\n",
      "Run the following command to install 'jupyter and notebook' into the Python environment. \n",
      "Command: 'python -m pip install jupyter notebook -U\n",
      "or\n",
      "conda install jupyter notebook -U'\n",
      "Click <a href='https://aka.ms/installJupyterForVSCode'>here</a> for more info."
     ]
    }
   ],
   "source": [
    "vol1_path = '../input/NOUVELLE FLORE DU LIBAN ET DE LA SYRIE 1.pdf'\n",
    "vol2_path = '../input/NOUVELLE FLORE DU LIBAN ET DE LA SYRIE 2.pdf'\n",
    "vol3_path = '../input/NOUVELLE FLORE DU LIBAN ET DE LA SYRIE 3.pdf'\n",
    "\n",
    "vol1_doc = fitz.open(vol1_path)\n",
    "vol2_doc = fitz.open(vol2_path)\n",
    "vol3_doc = fitz.open(vol3_path)\n",
    "\n",
    "vol1_pages = [vol1_doc[i] for i in range(vol1_doc.page_count)]\n",
    "vol2_pages = [vol2_doc[i] for i in range(vol2_doc.page_count)]\n",
    "vol3_pages = [vol3_doc[i] for i in range(vol3_doc.page_count)]"
   ]
  },
  {
   "cell_type": "code",
   "execution_count": 3,
   "metadata": {},
   "outputs": [],
   "source": [
    "vol1_char_df = pd.read_pickle(\"../input/char_df/vol1_df.pkl\")\n",
    "vol2_char_df = pd.read_pickle(\"../input/char_df/vol2_df.pkl\")\n",
    "vol3_char_df = pd.read_pickle(\"../input/char_df/vol3_df.pkl\")\n",
    "\n",
    "vol1_index = list(range(616, 639)) #inclusive\n",
    "vol2_index = list(range(703, 725))\n",
    "vol3_index = list(range(555, 583))"
   ]
  },
  {
   "cell_type": "code",
   "execution_count": 4,
   "metadata": {},
   "outputs": [],
   "source": [
    "def copy_data(df, src_index, dst_indecies, col_name, inplace = True):\n",
    "    \"\"\" used for modifying columns of datatype that can be dirrectly assigned to multiple rows\n",
    "        INPUT: \n",
    "              - df: target dataframe to modify \n",
    "              - \n",
    "        OUTPUT: returns df \n",
    "    \"\"\"\n",
    "    if inplace == False:\n",
    "        df = df.copy()\n",
    "    \n",
    "    src_value = df.loc[src_index, col_name]\n",
    "    if isinstance(src_value, tuple) or isinstance(src_value, list):\n",
    "        df.loc[dst_indecies, col_name] = [src_value] * len(dst_indecies)\n",
    "    else: \n",
    "        df.loc[dst_indecies, col_name] = src_value\n",
    "\n",
    "    return df "
   ]
  },
  {
   "cell_type": "code",
   "execution_count": 5,
   "metadata": {},
   "outputs": [],
   "source": [
    "def get_bbox(df, src_indecies, indecies, col_name, inplace = True):\n",
    "    x0 = df[col_name].apply(lambda x : x[0]).min()\n",
    "    y0 = df[col_name].apply(lambda x : x[1]).min()\n",
    "    x1 = df[col_name].apply(lambda x : x[2]).max()\n",
    "    y1 = df[col_name].apply(lambda x : x[3]).max()\n",
    "    bbox = (x0, y0, x1, y1)\n",
    "    df.loc[indecies, col_name] = [bbox] * len(indecies)\n",
    "\n",
    "    return df"
   ]
  },
  {
   "cell_type": "code",
   "execution_count": 6,
   "metadata": {},
   "outputs": [],
   "source": [
    "def reiterate(df, src_index, dst_indecies, col_name, inplace = True):\n",
    "    \"\"\" Used for modifying columns with lists/tuples\n",
    "        INPUT: \n",
    "              - df: target dataframe to modify \n",
    "              - \n",
    "        OUTPUT: returns df \n",
    "    \"\"\"\n",
    "    if inplace == False:\n",
    "        df = df.copy()\n",
    "    \n",
    "    df.loc[dst_indecies, col_name] = list(range(len(dst_indecies)))\n",
    "\n",
    "    return df "
   ]
  },
  {
   "cell_type": "code",
   "execution_count": 7,
   "metadata": {},
   "outputs": [],
   "source": [
    "defaul_col_transform = {\n",
    "                        \"vol_num\" : lambda x : x\n",
    "                       }"
   ]
  },
  {
   "cell_type": "code",
   "execution_count": null,
   "metadata": {},
   "outputs": [],
   "source": [
    "def transform_data(df,src_index, indecies, col_transform_dict, inplace = True):\n",
    "    \"\"\"INPUT\n",
    "        - col_transform_dict: dictionary with column names as keys and transformation function as values\"\"\""
   ]
  }
 ],
 "metadata": {
  "kernelspec": {
   "display_name": "Python 3.10.10 64-bit",
   "language": "python",
   "name": "python3"
  },
  "language_info": {
   "codemirror_mode": {
    "name": "ipython",
    "version": 3
   },
   "file_extension": ".py",
   "mimetype": "text/x-python",
   "name": "python",
   "nbconvert_exporter": "python",
   "pygments_lexer": "ipython3",
   "version": "3.10.10"
  },
  "orig_nbformat": 4,
  "vscode": {
   "interpreter": {
    "hash": "bd385fe162c5ca0c84973b7dd5c518456272446b2b64e67c2a69f949ca7a1754"
   }
  }
 },
 "nbformat": 4,
 "nbformat_minor": 2
}
