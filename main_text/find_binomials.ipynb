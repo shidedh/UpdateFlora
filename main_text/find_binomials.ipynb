{
 "cells": [
  {
   "cell_type": "code",
   "execution_count": 6,
   "metadata": {},
   "outputs": [],
   "source": [
    "import pandas as pd\n",
    "import numpy as np\n",
    "import seaborn as sns\n",
    "import matplotlib.pyplot as plt\n",
    "from cProfile import label #?not sure\n",
    "import re\n",
    "from fuzzywuzzy import fuzz\n",
    "import difflib \n",
    "from fuzzywuzzy import process\n",
    "import time\n",
    "from tqdm import tqdm \n",
    "import fitz\n",
    "\n",
    "from functools import reduce"
   ]
  },
  {
   "cell_type": "markdown",
   "metadata": {},
   "source": [
    "### importing books"
   ]
  },
  {
   "cell_type": "code",
   "execution_count": 7,
   "metadata": {},
   "outputs": [],
   "source": [
    "vol1_path = '../input/NOUVELLE FLORE DU LIBAN ET DE LA SYRIE 1.pdf'\n",
    "vol2_path = '../input/NOUVELLE FLORE DU LIBAN ET DE LA SYRIE 2.pdf'\n",
    "vol3_path = '../input/NOUVELLE FLORE DU LIBAN ET DE LA SYRIE 3.pdf'\n",
    "\n",
    "vol1_doc = fitz.open(vol1_path)\n",
    "vol2_doc = fitz.open(vol2_path)\n",
    "vol3_doc = fitz.open(vol3_path)\n",
    "\n",
    "vol1_pages = [vol1_doc[i] for i in range(vol1_doc.page_count)]\n",
    "vol2_pages = [vol2_doc[i] for i in range(vol2_doc.page_count)]\n",
    "vol3_pages = [vol3_doc[i] for i in range(vol3_doc.page_count)]"
   ]
  },
  {
   "cell_type": "code",
   "execution_count": 8,
   "metadata": {},
   "outputs": [],
   "source": [
    "vol1_char_df = pd.read_pickle(\"../input/char_df/vol1_df.pkl\")\n",
    "vol2_char_df = pd.read_pickle(\"../input/char_df/vol2_df.pkl\")\n",
    "vol3_char_df = pd.read_pickle(\"../input/char_df/vol3_df.pkl\")"
   ]
  },
  {
   "cell_type": "code",
   "execution_count": 9,
   "metadata": {},
   "outputs": [],
   "source": [
    "#mout. index: \n",
    "vol1_index_path = '../output/local/index_output/vol1_nonitalics.csv'\n",
    "vol2_index_path = '../output/local/index_output/vol2_nonitalics.csv'\n",
    "vol3_index_path = '../output/local/index_output/vol3_nonitalics.csv'\n",
    "\n",
    "vol1_index_df = pd.read_csv(vol1_index_path)\n",
    "vol2_index_df = pd.read_csv(vol2_index_path)\n",
    "vol3_index_df = pd.read_csv(vol3_index_path)\n",
    "\n",
    "#changing name of columns of mout. indecies \n",
    "vol1_index_df.rename(columns={'closest_genus': 'mouterde_genus', 'closest_epithet': 'mouterde_epithet', 'authors':'mouterde_author', 'closest_infra_name':'mouterde_infra'}, inplace=True)\n",
    "vol2_index_df.rename(columns={'closest_genus': 'mouterde_genus', 'closest_epithet': 'mouterde_epithet', 'authors':'mouterde_author', 'closest_infra_name':'mouterde_infra'}, inplace=True)\n",
    "vol3_index_df.rename(columns={'closest_genus': 'mouterde_genus', 'closest_epithet': 'mouterde_epithet', 'authors':'mouterde_author', 'closest_infra_name':'mouterde_infra'}, inplace=True)"
   ]
  },
  {
   "cell_type": "code",
   "execution_count": 10,
   "metadata": {},
   "outputs": [],
   "source": [
    "vol1_word_df = vol1_char_df.loc[:, ['vol_num', 'page_num', \n",
    "                                    'block_num', 'block_num_absolute', 'block_bbox',\n",
    "                                    'line_num', 'line_wmode', 'line_dir', 'line_bbox', \n",
    "                                    'span_num', 'span_size', 'span_flags', 'span_font', 'span_color', 'span_ascender', 'span_descender', 'span_origin', 'span_bbox', \n",
    "                                    'word_num', 'word','word_bbox', 'pruned_word', 'pruned_word_bbox']].drop_duplicates()\n",
    "\n",
    "vol2_word_df = vol2_char_df.loc[:, ['vol_num', 'page_num', \n",
    "                                    'block_num', 'block_num_absolute', 'block_bbox',\n",
    "                                    'line_num', 'line_wmode', 'line_dir', 'line_bbox', \n",
    "                                    'span_num', 'span_size', 'span_flags', 'span_font', 'span_color', 'span_ascender', 'span_descender', 'span_origin', 'span_bbox', \n",
    "                                    'word_num', 'word','word_bbox', 'pruned_word', 'pruned_word_bbox']].drop_duplicates()\n",
    "\n",
    "vol3_word_df = vol3_char_df.loc[:, ['vol_num', 'page_num', \n",
    "                                    'block_num', 'block_num_absolute', 'block_bbox',\n",
    "                                    'line_num', 'line_wmode', 'line_dir', 'line_bbox', \n",
    "                                    'span_num', 'span_size', 'span_flags', 'span_font', 'span_color', 'span_ascender', 'span_descender', 'span_origin', 'span_bbox', \n",
    "                                    'word_num', 'word','word_bbox', 'pruned_word', 'pruned_word_bbox']].drop_duplicates()"
   ]
  },
  {
   "cell_type": "markdown",
   "metadata": {},
   "source": [
    "### getting word pairs"
   ]
  },
  {
   "cell_type": "markdown",
   "metadata": {},
   "source": [
    "*right now last word of page i matches with alst word of page i + 1*\n",
    "\n",
    "things that I need to account for and am not doing so right now: \n",
    "- what if a word is in the next paragraph/block \n",
    "- what if a word is in the next page "
   ]
  },
  {
   "cell_type": "code",
   "execution_count": 27,
   "metadata": {},
   "outputs": [],
   "source": [
    "#list of genera from index -- uppercased to match main text pattern\n",
    "vol1_genera = vol1_index_df[vol1_index_df['taxon_rank'] == 'genus']['mouterde_genus'].str.upper().tolist()\n",
    "\n",
    "#list of species binomial from main text\n",
    "vol1_species_temp_df = vol1_index_df[(vol1_index_df['taxon_rank'] == 'epithet') & (~vol1_index_df['mouterde_genus'].isna())]\n",
    "vol1_species_binomial_list = list(zip(vol1_species_temp_df['mouterde_genus'], vol1_species_temp_df['mouterde_epithet']))\n",
    "vol1_species = list(map(lambda x: f\"{x[0]} {x[1]}\", vol1_species_binomial_list))\n",
    "vol1_species_abriviation = list(map(lambda x: f\"{x[0][0]}. {x[1]}\", vol1_species_binomial_list))"
   ]
  },
  {
   "cell_type": "code",
   "execution_count": 103,
   "metadata": {},
   "outputs": [],
   "source": [
    "def is_italic(flags):\n",
    "    return flags & 2 ** 1 != 0"
   ]
  },
  {
   "cell_type": "code",
   "execution_count": 29,
   "metadata": {},
   "outputs": [],
   "source": [
    "def get_n_words_flagged(df, n, inplace = True):\n",
    "    #assumes n > 1\n",
    "    out_words_col = f\"{n}_words\"\n",
    "    out_flags_col = f\"{n}_flags\"\n",
    "    \n",
    "    line_group_cols = ['vol_num', 'page_num', \n",
    "                       'block_num', 'block_num_absolute', 'block_bbox', \n",
    "                       'line_num', 'line_wmode', 'line_dir', 'line_bbox']\n",
    "    \n",
    "    n_words_lists = [None for i in range(n)]\n",
    "    n_words_flags = [None for i in range(n)]\n",
    "\n",
    "    n_words_lists[0] = df['word']\n",
    "    n_words_flags[0] = df['span_flags']\n",
    "\n",
    "    for i in range(1, n):\n",
    "        n_words_lists[i] = df.groupby(line_group_cols)['word'].shift(-i, fill_value=\"\")\n",
    "        n_words_flags[i] = df.groupby(line_group_cols)['span_flags'].shift(-i, fill_value=0)\n",
    "\n",
    "    zip_n_words = list(zip(*n_words_lists))\n",
    "    n_word_string = list(map(lambda n_word_list : \" \".join(n_word_list), zip_n_words))\n",
    "\n",
    "    zip_n_flags = list(zip(*n_words_flags))\n",
    "    combine_flags = list(map(lambda flag_list : reduce(lambda x, y: x | y, flag_list), zip_n_flags))\n",
    "    \n",
    "    if inplace == True:\n",
    "        df[out_words_col] = n_word_string\n",
    "        df[out_flags_col] = combine_flags\n",
    "    return n_word_string, combine_flags"
   ]
  },
  {
   "cell_type": "code",
   "execution_count": 30,
   "metadata": {},
   "outputs": [],
   "source": [
    "tqdm.pandas()"
   ]
  },
  {
   "cell_type": "code",
   "execution_count": 25,
   "metadata": {},
   "outputs": [],
   "source": [
    "def difflib_closest_matches(input_str, matching_lst):\n",
    "    matched_list = difflib.get_close_matches(input_str, matching_lst)\n",
    "    if len(matched_list) > 0:\n",
    "        return matched_list[0]\n",
    "    else:\n",
    "        #print(input_str)\n",
    "        return np.NaN"
   ]
  },
  {
   "cell_type": "code",
   "execution_count": 31,
   "metadata": {},
   "outputs": [],
   "source": [
    "def difflib_closest_match_score(input_str, match_str):\n",
    "    if isinstance(match_str, str):\n",
    "        input_str = input_str.replace(' ', '')\n",
    "        match_str = match_str.replace(' ', '')\n",
    "        score = difflib.SequenceMatcher(None, input_str.lower(), match_str.lower()).ratio()\n",
    "        return score\n",
    "    else:\n",
    "        return np.NaN"
   ]
  },
  {
   "cell_type": "code",
   "execution_count": 34,
   "metadata": {},
   "outputs": [
    {
     "name": "stdout",
     "output_type": "stream",
     "text": [
      "finding best match for 1_words\n"
     ]
    },
    {
     "name": "stderr",
     "output_type": "stream",
     "text": [
      "100%|██████████| 316313/316313 [05:15<00:00, 1001.18it/s]\n",
      "100%|██████████| 316313/316313 [00:01<00:00, 177623.73it/s]\n"
     ]
    },
    {
     "name": "stdout",
     "output_type": "stream",
     "text": [
      "finding best match for 2_words\n"
     ]
    },
    {
     "name": "stderr",
     "output_type": "stream",
     "text": [
      "100%|██████████| 316313/316313 [28:14<00:00, 186.65it/s]   \n",
      "100%|██████████| 316313/316313 [00:01<00:00, 173642.59it/s]\n"
     ]
    },
    {
     "name": "stdout",
     "output_type": "stream",
     "text": [
      "finding best match for 3_words\n"
     ]
    },
    {
     "name": "stderr",
     "output_type": "stream",
     "text": [
      "100%|██████████| 316313/316313 [16:25<00:00, 320.86it/s]\n",
      "100%|██████████| 316313/316313 [00:01<00:00, 176867.70it/s]\n"
     ]
    },
    {
     "name": "stdout",
     "output_type": "stream",
     "text": [
      "finding best match for 4_words\n"
     ]
    },
    {
     "name": "stderr",
     "output_type": "stream",
     "text": [
      "100%|██████████| 316313/316313 [20:27<00:00, 257.72it/s]  \n",
      "100%|██████████| 316313/316313 [00:01<00:00, 183662.32it/s]\n"
     ]
    }
   ],
   "source": [
    "for n in range(1, 5):\n",
    "    word_group_col_name = f\"{n}_words\"\n",
    "    match_col_name = f\"{n}_words_match\"\n",
    "    match_score_col_name = f\"{n}_words_match_score\"\n",
    "    print(f\"finding best match for {word_group_col_name}\")\n",
    "    get_n_words_flagged(vol1_word_df, n)\n",
    "    vol1_word_df[match_col_name] = vol1_word_df[word_group_col_name].progress_apply(lambda x: difflib_closest_matches(x, vol1_species))\n",
    "    vol1_word_df[match_score_col_name] = vol1_word_df.progress_apply(lambda r: difflib_closest_match_score(r[word_group_col_name], r[match_col_name]), axis = 1)"
   ]
  },
  {
   "cell_type": "code",
   "execution_count": 50,
   "metadata": {},
   "outputs": [
    {
     "data": {
      "text/html": [
       "<div>\n",
       "<style scoped>\n",
       "    .dataframe tbody tr th:only-of-type {\n",
       "        vertical-align: middle;\n",
       "    }\n",
       "\n",
       "    .dataframe tbody tr th {\n",
       "        vertical-align: top;\n",
       "    }\n",
       "\n",
       "    .dataframe thead th {\n",
       "        text-align: right;\n",
       "    }\n",
       "</style>\n",
       "<table border=\"1\" class=\"dataframe\">\n",
       "  <thead>\n",
       "    <tr style=\"text-align: right;\">\n",
       "      <th></th>\n",
       "      <th>vol_num</th>\n",
       "      <th>page_num</th>\n",
       "      <th>block_num</th>\n",
       "      <th>block_num_absolute</th>\n",
       "      <th>block_bbox</th>\n",
       "      <th>line_num</th>\n",
       "      <th>line_wmode</th>\n",
       "      <th>line_dir</th>\n",
       "      <th>line_bbox</th>\n",
       "      <th>span_num</th>\n",
       "      <th>...</th>\n",
       "      <th>4_words</th>\n",
       "      <th>4_flags</th>\n",
       "      <th>1_words_match</th>\n",
       "      <th>1_words_match_score</th>\n",
       "      <th>2_words_match</th>\n",
       "      <th>2_words_match_score</th>\n",
       "      <th>3_words_match</th>\n",
       "      <th>3_words_match_score</th>\n",
       "      <th>4_words_match</th>\n",
       "      <th>4_words_match_score</th>\n",
       "    </tr>\n",
       "  </thead>\n",
       "  <tbody>\n",
       "    <tr>\n",
       "      <th>300771</th>\n",
       "      <td>1</td>\n",
       "      <td>115</td>\n",
       "      <td>24</td>\n",
       "      <td>57</td>\n",
       "      <td>(64.80000305175781, 455.3900146484375, 437.058...</td>\n",
       "      <td>0</td>\n",
       "      <td>0</td>\n",
       "      <td>(1.0, 0.0)</td>\n",
       "      <td>(64.80000305175781, 455.3900146484375, 437.058...</td>\n",
       "      <td>0</td>\n",
       "      <td>...</td>\n",
       "      <td>Pennisetum setaceum (Forsk.) Chiov.</td>\n",
       "      <td>20</td>\n",
       "      <td>NaN</td>\n",
       "      <td>NaN</td>\n",
       "      <td>Penmsetum setaceum</td>\n",
       "      <td>0.914286</td>\n",
       "      <td>Penmsetum setaceum</td>\n",
       "      <td>0.744186</td>\n",
       "      <td>Penmsetum setaceum</td>\n",
       "      <td>0.653061</td>\n",
       "    </tr>\n",
       "    <tr>\n",
       "      <th>302863</th>\n",
       "      <td>1</td>\n",
       "      <td>116</td>\n",
       "      <td>15</td>\n",
       "      <td>34</td>\n",
       "      <td>(41.7599983215332, 294.75, 405.2952575683594, ...</td>\n",
       "      <td>0</td>\n",
       "      <td>0</td>\n",
       "      <td>(1.0, 0.0)</td>\n",
       "      <td>(41.7599983215332, 294.75, 405.2952575683594, ...</td>\n",
       "      <td>2</td>\n",
       "      <td>...</td>\n",
       "      <td>Pennisetum ciliare (L.) Link</td>\n",
       "      <td>6</td>\n",
       "      <td>NaN</td>\n",
       "      <td>NaN</td>\n",
       "      <td>Penmsetum divisum</td>\n",
       "      <td>0.606061</td>\n",
       "      <td>NaN</td>\n",
       "      <td>NaN</td>\n",
       "      <td>NaN</td>\n",
       "      <td>NaN</td>\n",
       "    </tr>\n",
       "  </tbody>\n",
       "</table>\n",
       "<p>2 rows × 39 columns</p>\n",
       "</div>"
      ],
      "text/plain": [
       "       vol_num  page_num  block_num  block_num_absolute  \\\n",
       "300771       1       115         24                  57   \n",
       "302863       1       116         15                  34   \n",
       "\n",
       "                                               block_bbox  line_num  \\\n",
       "300771  (64.80000305175781, 455.3900146484375, 437.058...         0   \n",
       "302863  (41.7599983215332, 294.75, 405.2952575683594, ...         0   \n",
       "\n",
       "        line_wmode    line_dir  \\\n",
       "300771           0  (1.0, 0.0)   \n",
       "302863           0  (1.0, 0.0)   \n",
       "\n",
       "                                                line_bbox  span_num  ...  \\\n",
       "300771  (64.80000305175781, 455.3900146484375, 437.058...         0  ...   \n",
       "302863  (41.7599983215332, 294.75, 405.2952575683594, ...         2  ...   \n",
       "\n",
       "                                    4_words  4_flags 1_words_match  \\\n",
       "300771  Pennisetum setaceum (Forsk.) Chiov.       20           NaN   \n",
       "302863         Pennisetum ciliare (L.) Link        6           NaN   \n",
       "\n",
       "        1_words_match_score       2_words_match  2_words_match_score  \\\n",
       "300771                  NaN  Penmsetum setaceum             0.914286   \n",
       "302863                  NaN   Penmsetum divisum             0.606061   \n",
       "\n",
       "             3_words_match 3_words_match_score       4_words_match  \\\n",
       "300771  Penmsetum setaceum            0.744186  Penmsetum setaceum   \n",
       "302863                 NaN                 NaN                 NaN   \n",
       "\n",
       "       4_words_match_score  \n",
       "300771            0.653061  \n",
       "302863                 NaN  \n",
       "\n",
       "[2 rows x 39 columns]"
      ]
     },
     "execution_count": 50,
     "metadata": {},
     "output_type": "execute_result"
    }
   ],
   "source": [
    "vol1_word_df[vol1_word_df['word'] == 'Pennisetum']"
   ]
  },
  {
   "cell_type": "code",
   "execution_count": 352,
   "metadata": {},
   "outputs": [
    {
     "data": {
      "text/plain": [
       "0.9090909090909091"
      ]
     },
     "execution_count": 352,
     "metadata": {},
     "output_type": "execute_result"
    }
   ],
   "source": [
    "difflib_closest_match_score('Pennisetum divisum','Penmsetum divisum')"
   ]
  },
  {
   "cell_type": "code",
   "execution_count": 70,
   "metadata": {},
   "outputs": [
    {
     "data": {
      "text/plain": [
       "<function __main__.is_italic(flags)>"
      ]
     },
     "execution_count": 70,
     "metadata": {},
     "output_type": "execute_result"
    }
   ],
   "source": [
    "is_italic"
   ]
  },
  {
   "cell_type": "code",
   "execution_count": 69,
   "metadata": {},
   "outputs": [
    {
     "data": {
      "text/plain": [
       "0          False\n",
       "6          False\n",
       "14         False\n",
       "16         False\n",
       "20         False\n",
       "           ...  \n",
       "1761774    False\n",
       "1761781    False\n",
       "1761784    False\n",
       "1761788    False\n",
       "1761792    False\n",
       "Name: 1_flags, Length: 316313, dtype: bool"
      ]
     },
     "execution_count": 69,
     "metadata": {},
     "output_type": "execute_result"
    }
   ],
   "source": [
    "vol1_word_df['1_flags'].apply(is_italic)"
   ]
  },
  {
   "cell_type": "code",
   "execution_count": null,
   "metadata": {},
   "outputs": [],
   "source": [
    "['4_flags'].apply(is_italic)"
   ]
  },
  {
   "cell_type": "code",
   "execution_count": 88,
   "metadata": {},
   "outputs": [],
   "source": [
    "# things to add: \n",
    "# make sure they're on the same line (fixing the shift situation by doing it on group by?)\n",
    "# make sure single word match is nothing completely unreasonable (e.g > 0.1 or something like that)\n",
    "# make sure no words in the grouping are italics \n",
    "likely_results = vol1_word_df[~((vol1_word_df['1_flags'].apply(is_italic)) | \n",
    "                                (vol1_word_df['2_flags'].apply(is_italic)) |\n",
    "                                (vol1_word_df['3_flags'].apply(is_italic)) | \n",
    "                                (vol1_word_df['4_flags'].apply(is_italic))) &\n",
    "                              ((vol1_word_df['1_words_match_score'] > 0.85) | \n",
    "                               (vol1_word_df['2_words_match_score'] > 0.85) | \n",
    "                               (vol1_word_df['3_words_match_score'] > 0.85) | \n",
    "                               (vol1_word_df['4_words_match_score'] > 0.85)) & \n",
    "                              (vol1_word_df['page_num'] < 616)]"
   ]
  },
  {
   "cell_type": "code",
   "execution_count": 104,
   "metadata": {},
   "outputs": [],
   "source": [
    "# things to add: \n",
    "# make sure they're on the same line (fixing the shift situation by doing it on group by?)\n",
    "# make sure single word match is nothing completely unreasonable (e.g > 0.1 or something like that)\n",
    "# make sure no words in the grouping are italics \n",
    "likely_results = vol1_word_df[((~(vol1_word_df['1_flags'].apply(is_italic)) & \n",
    "                                (vol1_word_df['1_words_match_score'] > 0.85)) |\n",
    "                               (~(vol1_word_df['2_flags'].apply(is_italic)) & \n",
    "                                (vol1_word_df['2_words_match_score'] > 0.85)) |\n",
    "                               (~(vol1_word_df['3_flags'].apply(is_italic)) & \n",
    "                                (vol1_word_df['3_words_match_score'] > 0.85)) |\n",
    "                               (~(vol1_word_df['1_flags'].apply(is_italic)) & \n",
    "                                (vol1_word_df['1_words_match_score'] > 0.85))) &\n",
    "                              (vol1_word_df['page_num'] < 616)]"
   ]
  },
  {
   "cell_type": "code",
   "execution_count": 105,
   "metadata": {},
   "outputs": [],
   "source": [
    "from fitz.utils import getColor"
   ]
  },
  {
   "cell_type": "code",
   "execution_count": 106,
   "metadata": {},
   "outputs": [],
   "source": [
    "# reset doc:\n",
    "vol1_doc = fitz.open(vol1_path)\n",
    "vol2_doc = fitz.open(vol2_path)\n",
    "vol3_doc = fitz.open(vol3_path)"
   ]
  },
  {
   "cell_type": "code",
   "execution_count": 107,
   "metadata": {},
   "outputs": [
    {
     "name": "stderr",
     "output_type": "stream",
     "text": [
      "100%|██████████| 1096/1096 [00:00<00:00, 4958.88it/s]\n"
     ]
    }
   ],
   "source": [
    "for i in tqdm(likely_results.index):\n",
    "    page_num = int(likely_results.loc[i, 'page_num'])\n",
    "    block_bbox = likely_results.loc[i, 'block_bbox']\n",
    "    block_bbox = likely_results.loc[i, 'block_bbox']\n",
    "    word_bbox = likely_results.loc[i, 'word_bbox']\n",
    "    page = vol1_doc[page_num]\n",
    "    r_high = fitz.Rect(word_bbox)\n",
    "    r_box = fitz.Rect(block_bbox)\n",
    "    annot_high = page.add_highlight_annot(r_high)\n",
    "    annot_high.set_colors(stroke=getColor(\"antiquewhite\"))\n",
    "    annot_rect = page.add_rect_annot(r_box)\n",
    "    annot_high.update()\n",
    "    annot_rect.update()\n",
    "\n",
    "marked_epithet_fname = \"../output/local/main_text/fuzzyMatch85_vol1_newNoIv2.pdf\"\n",
    "vol1_doc.save(marked_epithet_fname)"
   ]
  },
  {
   "cell_type": "markdown",
   "metadata": {},
   "source": [
    "### problems"
   ]
  },
  {
   "cell_type": "markdown",
   "metadata": {},
   "source": [
    "Not being picked up: \n",
    "118 - Erianthusravennae - Index Issue \n",
    "118 - Erianthus hostii - Index Issue\n",
    "140 - Alopecurus my o sur oi des - spaces, would need 6_words which would be O(crazy)\n",
    "172 - Molinia caemlea - Index Issue - index is: Molinia oerulea (match score: 0.785714)\n",
    "247 - Fuirena pub e seen s - NOT SURE! EVERYTHING SEEMS FINE 4_words_match_score = 0.9!\n",
    "268 - A r u m melanopus -  spaces, would need 5_words which would be O(crazy)\n",
    "306 - Tulipa aff. biflorae - Q: aff. ? and matches with Tulipa biflora\n",
    "348 - Allium deserti-syriaci - Matches with Allium de∫er˛i\n",
    "501 - Hypocylix sp.? - Notation doesn't make sense\n",
    "516 - Halocharis sp. - Notation doesn't make sense\n",
    "549 - Arenaria libanotica - Index Issue (Arenaria liban otica Ky - 2 match: 0.787879) \n",
    "\n",
    "588 - Gypsophila venusta Fenzl - Index Issue (is in online version but not offline)\n",
    "590 - Gypsophila libanotica - Index Issue (is in online version but not offline)\n",
    "590 - Gypsophila pallida - Index Issue (is in online version but not offline)\n",
    "591 - Gypsophila ruscifolia - Index Issue (is in online version but not offline)\n",
    "591 - Gypsophila linearifolia - Index Issue (is in online version but not offline)\n",
    "...\n",
    "594 - Gypsophila ... Index Issue (is in online version but not offline) [11 total]\n",
    "\n",
    "__\n",
    "Unrelated:\n",
    "S. 510, 511\n",
    "Box overlap : 175 \n",
    "Box stop early? 207, 222 & 578 (just sp. name), 250 & 263 (prev cond -- issue visible after page 1)"
   ]
  },
  {
   "cell_type": "code",
   "execution_count": 122,
   "metadata": {},
   "outputs": [
    {
     "data": {
      "text/html": [
       "<div>\n",
       "<style scoped>\n",
       "    .dataframe tbody tr th:only-of-type {\n",
       "        vertical-align: middle;\n",
       "    }\n",
       "\n",
       "    .dataframe tbody tr th {\n",
       "        vertical-align: top;\n",
       "    }\n",
       "\n",
       "    .dataframe thead th {\n",
       "        text-align: right;\n",
       "    }\n",
       "</style>\n",
       "<table border=\"1\" class=\"dataframe\">\n",
       "  <thead>\n",
       "    <tr style=\"text-align: right;\">\n",
       "      <th></th>\n",
       "      <th>word_bbox</th>\n",
       "      <th>pruned_word</th>\n",
       "      <th>pruned_word_bbox</th>\n",
       "      <th>1_words</th>\n",
       "      <th>1_flags</th>\n",
       "      <th>2_words</th>\n",
       "      <th>2_flags</th>\n",
       "      <th>3_words</th>\n",
       "      <th>3_flags</th>\n",
       "      <th>4_words</th>\n",
       "      <th>4_flags</th>\n",
       "      <th>1_words_match</th>\n",
       "      <th>1_words_match_score</th>\n",
       "      <th>2_words_match</th>\n",
       "      <th>2_words_match_score</th>\n",
       "      <th>3_words_match</th>\n",
       "      <th>3_words_match_score</th>\n",
       "      <th>4_words_match</th>\n",
       "      <th>4_words_match_score</th>\n",
       "    </tr>\n",
       "  </thead>\n",
       "  <tbody>\n",
       "    <tr>\n",
       "      <th>956721</th>\n",
       "      <td>(44.400001525878906, 414.19000244140625, 79.88...</td>\n",
       "      <td>Allium</td>\n",
       "      <td>(44.400001525878906, 414.19000244140625, 79.88...</td>\n",
       "      <td>Allium</td>\n",
       "      <td>20</td>\n",
       "      <td>Allium deserti-syriaci</td>\n",
       "      <td>20</td>\n",
       "      <td>Allium deserti-syriaci Feinbr.,</td>\n",
       "      <td>20</td>\n",
       "      <td>Allium deserti-syriaci Feinbr., loc.</td>\n",
       "      <td>22</td>\n",
       "      <td>Allium cepa</td>\n",
       "      <td>0.75</td>\n",
       "      <td>Allium de∫er˛i</td>\n",
       "      <td>0.647059</td>\n",
       "      <td>NaN</td>\n",
       "      <td>NaN</td>\n",
       "      <td>NaN</td>\n",
       "      <td>NaN</td>\n",
       "    </tr>\n",
       "  </tbody>\n",
       "</table>\n",
       "</div>"
      ],
      "text/plain": [
       "                                                word_bbox pruned_word  \\\n",
       "956721  (44.400001525878906, 414.19000244140625, 79.88...      Allium   \n",
       "\n",
       "                                         pruned_word_bbox 1_words  1_flags  \\\n",
       "956721  (44.400001525878906, 414.19000244140625, 79.88...  Allium       20   \n",
       "\n",
       "                       2_words  2_flags                          3_words  \\\n",
       "956721  Allium deserti-syriaci       20  Allium deserti-syriaci Feinbr.,   \n",
       "\n",
       "        3_flags                               4_words  4_flags 1_words_match  \\\n",
       "956721       20  Allium deserti-syriaci Feinbr., loc.       22   Allium cepa   \n",
       "\n",
       "        1_words_match_score   2_words_match  2_words_match_score  \\\n",
       "956721                 0.75  Allium de∫er˛i             0.647059   \n",
       "\n",
       "       3_words_match  3_words_match_score 4_words_match  4_words_match_score  \n",
       "956721           NaN                  NaN           NaN                  NaN  "
      ]
     },
     "execution_count": 122,
     "metadata": {},
     "output_type": "execute_result"
    }
   ],
   "source": [
    "vol1_word_df[vol1_word_df['2_words'] == 'Allium deserti-syriaci'].iloc[:,20:]"
   ]
  },
  {
   "cell_type": "code",
   "execution_count": 123,
   "metadata": {},
   "outputs": [
    {
     "data": {
      "text/html": [
       "<div>\n",
       "<style scoped>\n",
       "    .dataframe tbody tr th:only-of-type {\n",
       "        vertical-align: middle;\n",
       "    }\n",
       "\n",
       "    .dataframe tbody tr th {\n",
       "        vertical-align: top;\n",
       "    }\n",
       "\n",
       "    .dataframe thead th {\n",
       "        text-align: right;\n",
       "    }\n",
       "</style>\n",
       "<table border=\"1\" class=\"dataframe\">\n",
       "  <thead>\n",
       "    <tr style=\"text-align: right;\">\n",
       "      <th></th>\n",
       "      <th>word_bbox</th>\n",
       "      <th>pruned_word</th>\n",
       "      <th>pruned_word_bbox</th>\n",
       "      <th>1_words</th>\n",
       "      <th>1_flags</th>\n",
       "      <th>2_words</th>\n",
       "      <th>2_flags</th>\n",
       "      <th>3_words</th>\n",
       "      <th>3_flags</th>\n",
       "      <th>4_words</th>\n",
       "      <th>4_flags</th>\n",
       "      <th>1_words_match</th>\n",
       "      <th>1_words_match_score</th>\n",
       "      <th>2_words_match</th>\n",
       "      <th>2_words_match_score</th>\n",
       "      <th>3_words_match</th>\n",
       "      <th>3_words_match_score</th>\n",
       "      <th>4_words_match</th>\n",
       "      <th>4_words_match_score</th>\n",
       "    </tr>\n",
       "  </thead>\n",
       "  <tbody>\n",
       "    <tr>\n",
       "      <th>1528694</th>\n",
       "      <td>(44.880001068115234, 330.5899963378906, 90.449...</td>\n",
       "      <td>Arenaria</td>\n",
       "      <td>(44.880001068115234, 330.5899963378906, 90.449...</td>\n",
       "      <td>Arenaria</td>\n",
       "      <td>20</td>\n",
       "      <td>Arenaria libanotica</td>\n",
       "      <td>20</td>\n",
       "      <td>Arenaria libanotica Ky</td>\n",
       "      <td>20</td>\n",
       "      <td>Arenaria libanotica Ky (incl.</td>\n",
       "      <td>20</td>\n",
       "      <td>Arenaria liban</td>\n",
       "      <td>0.761905</td>\n",
       "      <td>Arenaria liban</td>\n",
       "      <td>0.83871</td>\n",
       "      <td>Arenaria liban</td>\n",
       "      <td>0.787879</td>\n",
       "      <td>Minuartia libanotica</td>\n",
       "      <td>0.622222</td>\n",
       "    </tr>\n",
       "  </tbody>\n",
       "</table>\n",
       "</div>"
      ],
      "text/plain": [
       "                                                 word_bbox pruned_word  \\\n",
       "1528694  (44.880001068115234, 330.5899963378906, 90.449...    Arenaria   \n",
       "\n",
       "                                          pruned_word_bbox   1_words  1_flags  \\\n",
       "1528694  (44.880001068115234, 330.5899963378906, 90.449...  Arenaria       20   \n",
       "\n",
       "                     2_words  2_flags                 3_words  3_flags  \\\n",
       "1528694  Arenaria libanotica       20  Arenaria libanotica Ky       20   \n",
       "\n",
       "                               4_words  4_flags   1_words_match  \\\n",
       "1528694  Arenaria libanotica Ky (incl.       20  Arenaria liban   \n",
       "\n",
       "         1_words_match_score   2_words_match  2_words_match_score  \\\n",
       "1528694             0.761905  Arenaria liban              0.83871   \n",
       "\n",
       "          3_words_match  3_words_match_score         4_words_match  \\\n",
       "1528694  Arenaria liban             0.787879  Minuartia libanotica   \n",
       "\n",
       "         4_words_match_score  \n",
       "1528694             0.622222  "
      ]
     },
     "execution_count": 123,
     "metadata": {},
     "output_type": "execute_result"
    }
   ],
   "source": [
    "vol1_word_df[vol1_word_df['2_words'] == 'Arenaria libanotica'].iloc[:,20:]"
   ]
  },
  {
   "cell_type": "code",
   "execution_count": 125,
   "metadata": {},
   "outputs": [
    {
     "data": {
      "text/html": [
       "<div>\n",
       "<style scoped>\n",
       "    .dataframe tbody tr th:only-of-type {\n",
       "        vertical-align: middle;\n",
       "    }\n",
       "\n",
       "    .dataframe tbody tr th {\n",
       "        vertical-align: top;\n",
       "    }\n",
       "\n",
       "    .dataframe thead th {\n",
       "        text-align: right;\n",
       "    }\n",
       "</style>\n",
       "<table border=\"1\" class=\"dataframe\">\n",
       "  <thead>\n",
       "    <tr style=\"text-align: right;\">\n",
       "      <th></th>\n",
       "      <th>word_bbox</th>\n",
       "      <th>pruned_word</th>\n",
       "      <th>pruned_word_bbox</th>\n",
       "      <th>1_words</th>\n",
       "      <th>1_flags</th>\n",
       "      <th>2_words</th>\n",
       "      <th>2_flags</th>\n",
       "      <th>3_words</th>\n",
       "      <th>3_flags</th>\n",
       "      <th>4_words</th>\n",
       "      <th>4_flags</th>\n",
       "      <th>1_words_match</th>\n",
       "      <th>1_words_match_score</th>\n",
       "      <th>2_words_match</th>\n",
       "      <th>2_words_match_score</th>\n",
       "      <th>3_words_match</th>\n",
       "      <th>3_words_match_score</th>\n",
       "      <th>4_words_match</th>\n",
       "      <th>4_words_match_score</th>\n",
       "    </tr>\n",
       "  </thead>\n",
       "  <tbody>\n",
       "    <tr>\n",
       "      <th>1636313</th>\n",
       "      <td>(54.720001220703125, 531.9100341796875, 112.96...</td>\n",
       "      <td>Gypsophila</td>\n",
       "      <td>(54.720001220703125, 531.9100341796875, 112.96...</td>\n",
       "      <td>Gypsophila</td>\n",
       "      <td>20</td>\n",
       "      <td>Gypsophila venusta</td>\n",
       "      <td>20</td>\n",
       "      <td>Gypsophila venusta Fenzl</td>\n",
       "      <td>20</td>\n",
       "      <td>Gypsophila venusta Fenzl (PI.</td>\n",
       "      <td>20</td>\n",
       "      <td>Gypsophila antari</td>\n",
       "      <td>0.769231</td>\n",
       "      <td>Gypsophila antari</td>\n",
       "      <td>0.787879</td>\n",
       "      <td>Gypsophila antari</td>\n",
       "      <td>0.684211</td>\n",
       "      <td>Gypsophila antari</td>\n",
       "      <td>0.666667</td>\n",
       "    </tr>\n",
       "  </tbody>\n",
       "</table>\n",
       "</div>"
      ],
      "text/plain": [
       "                                                 word_bbox pruned_word  \\\n",
       "1636313  (54.720001220703125, 531.9100341796875, 112.96...  Gypsophila   \n",
       "\n",
       "                                          pruned_word_bbox     1_words  \\\n",
       "1636313  (54.720001220703125, 531.9100341796875, 112.96...  Gypsophila   \n",
       "\n",
       "         1_flags             2_words  2_flags                   3_words  \\\n",
       "1636313       20  Gypsophila venusta       20  Gypsophila venusta Fenzl   \n",
       "\n",
       "         3_flags                        4_words  4_flags      1_words_match  \\\n",
       "1636313       20  Gypsophila venusta Fenzl (PI.       20  Gypsophila antari   \n",
       "\n",
       "         1_words_match_score      2_words_match  2_words_match_score  \\\n",
       "1636313             0.769231  Gypsophila antari             0.787879   \n",
       "\n",
       "             3_words_match  3_words_match_score      4_words_match  \\\n",
       "1636313  Gypsophila antari             0.684211  Gypsophila antari   \n",
       "\n",
       "         4_words_match_score  \n",
       "1636313             0.666667  "
      ]
     },
     "execution_count": 125,
     "metadata": {},
     "output_type": "execute_result"
    }
   ],
   "source": [
    "vol1_word_df[vol1_word_df['3_words'] == 'Gypsophila venusta Fenzl'].iloc[:,20:]"
   ]
  },
  {
   "cell_type": "code",
   "execution_count": 127,
   "metadata": {},
   "outputs": [
    {
     "data": {
      "text/html": [
       "<div>\n",
       "<style scoped>\n",
       "    .dataframe tbody tr th:only-of-type {\n",
       "        vertical-align: middle;\n",
       "    }\n",
       "\n",
       "    .dataframe tbody tr th {\n",
       "        vertical-align: top;\n",
       "    }\n",
       "\n",
       "    .dataframe thead th {\n",
       "        text-align: right;\n",
       "    }\n",
       "</style>\n",
       "<table border=\"1\" class=\"dataframe\">\n",
       "  <thead>\n",
       "    <tr style=\"text-align: right;\">\n",
       "      <th></th>\n",
       "      <th>Unnamed: 0</th>\n",
       "      <th>mouterde_genus</th>\n",
       "      <th>mouterde_epithet</th>\n",
       "      <th>mouterde_infra</th>\n",
       "      <th>mouterde_author</th>\n",
       "      <th>taxon_rank</th>\n",
       "      <th>taxon_rank_detailed</th>\n",
       "    </tr>\n",
       "  </thead>\n",
       "  <tbody>\n",
       "    <tr>\n",
       "      <th>615</th>\n",
       "      <td>2466</td>\n",
       "      <td>Gypsophila</td>\n",
       "      <td>NaN</td>\n",
       "      <td>NaN</td>\n",
       "      <td>NaN</td>\n",
       "      <td>genus</td>\n",
       "      <td>genus</td>\n",
       "    </tr>\n",
       "    <tr>\n",
       "      <th>616</th>\n",
       "      <td>2467</td>\n",
       "      <td>Gypsophila</td>\n",
       "      <td>anatolica</td>\n",
       "      <td>NaN</td>\n",
       "      <td>Boiss.</td>\n",
       "      <td>epithet</td>\n",
       "      <td>epithet</td>\n",
       "    </tr>\n",
       "    <tr>\n",
       "      <th>617</th>\n",
       "      <td>2469</td>\n",
       "      <td>Gypsophila</td>\n",
       "      <td>antari</td>\n",
       "      <td>NaN</td>\n",
       "      <td>Post et Beauv.</td>\n",
       "      <td>epithet</td>\n",
       "      <td>epithet</td>\n",
       "    </tr>\n",
       "    <tr>\n",
       "      <th>618</th>\n",
       "      <td>2475</td>\n",
       "      <td>Gypsophila</td>\n",
       "      <td>arabica</td>\n",
       "      <td>NaN</td>\n",
       "      <td>Barkoudah</td>\n",
       "      <td>epithet</td>\n",
       "      <td>epithet</td>\n",
       "    </tr>\n",
       "    <tr>\n",
       "      <th>619</th>\n",
       "      <td>2480</td>\n",
       "      <td>Gypsophila</td>\n",
       "      <td>aucheri</td>\n",
       "      <td>NaN</td>\n",
       "      <td>Boiss.</td>\n",
       "      <td>epithet</td>\n",
       "      <td>epithet</td>\n",
       "    </tr>\n",
       "    <tr>\n",
       "      <th>620</th>\n",
       "      <td>2488</td>\n",
       "      <td>Gypsophila</td>\n",
       "      <td>damascena</td>\n",
       "      <td>NaN</td>\n",
       "      <td>Boiss.</td>\n",
       "      <td>epithet</td>\n",
       "      <td>epithet</td>\n",
       "    </tr>\n",
       "    <tr>\n",
       "      <th>621</th>\n",
       "      <td>2493</td>\n",
       "      <td>Gypsophila</td>\n",
       "      <td>filicaulis</td>\n",
       "      <td>NaN</td>\n",
       "      <td>NaN</td>\n",
       "      <td>epithet</td>\n",
       "      <td>epithet</td>\n",
       "    </tr>\n",
       "  </tbody>\n",
       "</table>\n",
       "</div>"
      ],
      "text/plain": [
       "     Unnamed: 0 mouterde_genus mouterde_epithet  mouterde_infra  \\\n",
       "615        2466     Gypsophila              NaN             NaN   \n",
       "616        2467     Gypsophila        anatolica             NaN   \n",
       "617        2469     Gypsophila           antari             NaN   \n",
       "618        2475     Gypsophila          arabica             NaN   \n",
       "619        2480     Gypsophila          aucheri             NaN   \n",
       "620        2488     Gypsophila        damascena             NaN   \n",
       "621        2493     Gypsophila       filicaulis             NaN   \n",
       "\n",
       "    mouterde_author taxon_rank taxon_rank_detailed  \n",
       "615             NaN      genus               genus  \n",
       "616          Boiss.    epithet             epithet  \n",
       "617  Post et Beauv.    epithet             epithet  \n",
       "618       Barkoudah    epithet             epithet  \n",
       "619          Boiss.    epithet             epithet  \n",
       "620          Boiss.    epithet             epithet  \n",
       "621             NaN    epithet             epithet  "
      ]
     },
     "execution_count": 127,
     "metadata": {},
     "output_type": "execute_result"
    }
   ],
   "source": [
    "vol1_index_df[vol1_index_df['mouterde_genus'] == 'Gypsophila']"
   ]
  },
  {
   "cell_type": "code",
   "execution_count": 112,
   "metadata": {},
   "outputs": [
    {
     "data": {
      "text/html": [
       "<div>\n",
       "<style scoped>\n",
       "    .dataframe tbody tr th:only-of-type {\n",
       "        vertical-align: middle;\n",
       "    }\n",
       "\n",
       "    .dataframe tbody tr th {\n",
       "        vertical-align: top;\n",
       "    }\n",
       "\n",
       "    .dataframe thead th {\n",
       "        text-align: right;\n",
       "    }\n",
       "</style>\n",
       "<table border=\"1\" class=\"dataframe\">\n",
       "  <thead>\n",
       "    <tr style=\"text-align: right;\">\n",
       "      <th></th>\n",
       "      <th>word_bbox</th>\n",
       "      <th>pruned_word</th>\n",
       "      <th>pruned_word_bbox</th>\n",
       "      <th>1_words</th>\n",
       "      <th>1_flags</th>\n",
       "      <th>2_words</th>\n",
       "      <th>2_flags</th>\n",
       "      <th>3_words</th>\n",
       "      <th>3_flags</th>\n",
       "      <th>4_words</th>\n",
       "      <th>4_flags</th>\n",
       "      <th>1_words_match</th>\n",
       "      <th>1_words_match_score</th>\n",
       "      <th>2_words_match</th>\n",
       "      <th>2_words_match_score</th>\n",
       "      <th>3_words_match</th>\n",
       "      <th>3_words_match_score</th>\n",
       "      <th>4_words_match</th>\n",
       "      <th>4_words_match_score</th>\n",
       "    </tr>\n",
       "  </thead>\n",
       "  <tbody>\n",
       "    <tr>\n",
       "      <th>456905</th>\n",
       "      <td>(65.5199966430664, 152.1099853515625, 104.4586...</td>\n",
       "      <td>Molinia</td>\n",
       "      <td>(65.5199966430664, 152.1099853515625, 104.4586...</td>\n",
       "      <td>Molinia</td>\n",
       "      <td>20</td>\n",
       "      <td>Molinia caemlea</td>\n",
       "      <td>20</td>\n",
       "      <td>Molinia caemlea (L.)</td>\n",
       "      <td>20</td>\n",
       "      <td>Molinia caemlea (L.) Moench</td>\n",
       "      <td>20</td>\n",
       "      <td>Molinia oerulea</td>\n",
       "      <td>0.666667</td>\n",
       "      <td>Molinia oerulea</td>\n",
       "      <td>0.785714</td>\n",
       "      <td>Molinia oerulea</td>\n",
       "      <td>0.687500</td>\n",
       "      <td>NaN</td>\n",
       "      <td>NaN</td>\n",
       "    </tr>\n",
       "    <tr>\n",
       "      <th>1741373</th>\n",
       "      <td>(28.559999465942383, 240.92999267578125, 58.67...</td>\n",
       "      <td>Molinia</td>\n",
       "      <td>(28.559999465942383, 240.92999267578125, 58.67...</td>\n",
       "      <td>Molinia</td>\n",
       "      <td>4</td>\n",
       "      <td>Molinia</td>\n",
       "      <td>4</td>\n",
       "      <td>Molinia</td>\n",
       "      <td>4</td>\n",
       "      <td>Molinia</td>\n",
       "      <td>4</td>\n",
       "      <td>Molinia oerulea</td>\n",
       "      <td>0.666667</td>\n",
       "      <td>Molinia oerulea</td>\n",
       "      <td>0.666667</td>\n",
       "      <td>Molinia oerulea</td>\n",
       "      <td>0.666667</td>\n",
       "      <td>Molinia oerulea</td>\n",
       "      <td>0.666667</td>\n",
       "    </tr>\n",
       "  </tbody>\n",
       "</table>\n",
       "</div>"
      ],
      "text/plain": [
       "                                                 word_bbox pruned_word  \\\n",
       "456905   (65.5199966430664, 152.1099853515625, 104.4586...     Molinia   \n",
       "1741373  (28.559999465942383, 240.92999267578125, 58.67...     Molinia   \n",
       "\n",
       "                                          pruned_word_bbox  1_words  1_flags  \\\n",
       "456905   (65.5199966430664, 152.1099853515625, 104.4586...  Molinia       20   \n",
       "1741373  (28.559999465942383, 240.92999267578125, 58.67...  Molinia        4   \n",
       "\n",
       "                 2_words  2_flags               3_words  3_flags  \\\n",
       "456905   Molinia caemlea       20  Molinia caemlea (L.)       20   \n",
       "1741373         Molinia         4             Molinia          4   \n",
       "\n",
       "                             4_words  4_flags    1_words_match  \\\n",
       "456905   Molinia caemlea (L.) Moench       20  Molinia oerulea   \n",
       "1741373                   Molinia           4  Molinia oerulea   \n",
       "\n",
       "         1_words_match_score    2_words_match  2_words_match_score  \\\n",
       "456905              0.666667  Molinia oerulea             0.785714   \n",
       "1741373             0.666667  Molinia oerulea             0.666667   \n",
       "\n",
       "           3_words_match  3_words_match_score    4_words_match  \\\n",
       "456905   Molinia oerulea             0.687500              NaN   \n",
       "1741373  Molinia oerulea             0.666667  Molinia oerulea   \n",
       "\n",
       "         4_words_match_score  \n",
       "456905                   NaN  \n",
       "1741373             0.666667  "
      ]
     },
     "execution_count": 112,
     "metadata": {},
     "output_type": "execute_result"
    }
   ],
   "source": [
    "vol1_word_df[vol1_word_df['word'] == 'Molinia'].iloc[:,20:]"
   ]
  },
  {
   "cell_type": "code",
   "execution_count": null,
   "metadata": {},
   "outputs": [],
   "source": []
  },
  {
   "cell_type": "markdown",
   "metadata": {},
   "source": [
    "### end points "
   ]
  },
  {
   "cell_type": "code",
   "execution_count": 128,
   "metadata": {},
   "outputs": [],
   "source": [
    "# reset doc:\n",
    "vol1_doc = fitz.open(vol1_path)\n",
    "vol2_doc = fitz.open(vol2_path)\n",
    "vol3_doc = fitz.open(vol3_path)"
   ]
  },
  {
   "cell_type": "code",
   "execution_count": 164,
   "metadata": {},
   "outputs": [
    {
     "data": {
      "text/plain": [
       "150.6609063707292"
      ]
     },
     "execution_count": 164,
     "metadata": {},
     "output_type": "execute_result"
    }
   ],
   "source": [
    "first_quad = (vol1_word_df['line_bbox'].apply(lambda x: x[0]).min() + vol1_word_df['line_bbox'].apply(lambda x: x[2]).max())/4"
   ]
  },
  {
   "cell_type": "code",
   "execution_count": null,
   "metadata": {},
   "outputs": [],
   "source": []
  },
  {
   "cell_type": "code",
   "execution_count": 170,
   "metadata": {},
   "outputs": [
    {
     "data": {
      "text/html": [
       "<div>\n",
       "<style scoped>\n",
       "    .dataframe tbody tr th:only-of-type {\n",
       "        vertical-align: middle;\n",
       "    }\n",
       "\n",
       "    .dataframe tbody tr th {\n",
       "        vertical-align: top;\n",
       "    }\n",
       "\n",
       "    .dataframe thead th {\n",
       "        text-align: right;\n",
       "    }\n",
       "</style>\n",
       "<table border=\"1\" class=\"dataframe\">\n",
       "  <thead>\n",
       "    <tr style=\"text-align: right;\">\n",
       "      <th></th>\n",
       "      <th>vol_num</th>\n",
       "      <th>page_num</th>\n",
       "      <th>block_num</th>\n",
       "      <th>block_num_absolute</th>\n",
       "      <th>block_bbox</th>\n",
       "      <th>line_num</th>\n",
       "      <th>line_wmode</th>\n",
       "      <th>line_dir</th>\n",
       "      <th>line_bbox</th>\n",
       "      <th>span_num</th>\n",
       "      <th>...</th>\n",
       "      <th>4_words</th>\n",
       "      <th>4_flags</th>\n",
       "      <th>1_words_match</th>\n",
       "      <th>1_words_match_score</th>\n",
       "      <th>2_words_match</th>\n",
       "      <th>2_words_match_score</th>\n",
       "      <th>3_words_match</th>\n",
       "      <th>3_words_match_score</th>\n",
       "      <th>4_words_match</th>\n",
       "      <th>4_words_match_score</th>\n",
       "    </tr>\n",
       "  </thead>\n",
       "  <tbody>\n",
       "    <tr>\n",
       "      <th>486</th>\n",
       "      <td>1</td>\n",
       "      <td>1</td>\n",
       "      <td>2</td>\n",
       "      <td>2</td>\n",
       "      <td>(215.52000427246094, 218.25149536132812, 232.4...</td>\n",
       "      <td>0</td>\n",
       "      <td>0</td>\n",
       "      <td>(1.0, 0.0)</td>\n",
       "      <td>(215.52000427246094, 218.25149536132812, 232.4...</td>\n",
       "      <td>0</td>\n",
       "      <td>...</td>\n",
       "      <td>PAR</td>\n",
       "      <td>4</td>\n",
       "      <td>NaN</td>\n",
       "      <td>NaN</td>\n",
       "      <td>NaN</td>\n",
       "      <td>NaN</td>\n",
       "      <td>NaN</td>\n",
       "      <td>NaN</td>\n",
       "      <td>NaN</td>\n",
       "      <td>NaN</td>\n",
       "    </tr>\n",
       "    <tr>\n",
       "      <th>489</th>\n",
       "      <td>1</td>\n",
       "      <td>1</td>\n",
       "      <td>3</td>\n",
       "      <td>3</td>\n",
       "      <td>(151.1999969482422, 239.97000122070312, 296.83...</td>\n",
       "      <td>0</td>\n",
       "      <td>0</td>\n",
       "      <td>(1.0, 0.0)</td>\n",
       "      <td>(151.1999969482422, 239.97000122070312, 296.83...</td>\n",
       "      <td>0</td>\n",
       "      <td>...</td>\n",
       "      <td>PAUL MOUTERDE, S.J.</td>\n",
       "      <td>4</td>\n",
       "      <td>NaN</td>\n",
       "      <td>NaN</td>\n",
       "      <td>NaN</td>\n",
       "      <td>NaN</td>\n",
       "      <td>NaN</td>\n",
       "      <td>NaN</td>\n",
       "      <td>NaN</td>\n",
       "      <td>NaN</td>\n",
       "    </tr>\n",
       "    <tr>\n",
       "      <th>493</th>\n",
       "      <td>1</td>\n",
       "      <td>1</td>\n",
       "      <td>3</td>\n",
       "      <td>3</td>\n",
       "      <td>(151.1999969482422, 239.97000122070312, 296.83...</td>\n",
       "      <td>0</td>\n",
       "      <td>0</td>\n",
       "      <td>(1.0, 0.0)</td>\n",
       "      <td>(151.1999969482422, 239.97000122070312, 296.83...</td>\n",
       "      <td>0</td>\n",
       "      <td>...</td>\n",
       "      <td>MOUTERDE, S.J.</td>\n",
       "      <td>4</td>\n",
       "      <td>NaN</td>\n",
       "      <td>NaN</td>\n",
       "      <td>NaN</td>\n",
       "      <td>NaN</td>\n",
       "      <td>NaN</td>\n",
       "      <td>NaN</td>\n",
       "      <td>NaN</td>\n",
       "      <td>NaN</td>\n",
       "    </tr>\n",
       "    <tr>\n",
       "      <th>502</th>\n",
       "      <td>1</td>\n",
       "      <td>1</td>\n",
       "      <td>3</td>\n",
       "      <td>3</td>\n",
       "      <td>(151.1999969482422, 239.97000122070312, 296.83...</td>\n",
       "      <td>0</td>\n",
       "      <td>0</td>\n",
       "      <td>(1.0, 0.0)</td>\n",
       "      <td>(151.1999969482422, 239.97000122070312, 296.83...</td>\n",
       "      <td>0</td>\n",
       "      <td>...</td>\n",
       "      <td>S.J.</td>\n",
       "      <td>4</td>\n",
       "      <td>NaN</td>\n",
       "      <td>NaN</td>\n",
       "      <td>NaN</td>\n",
       "      <td>NaN</td>\n",
       "      <td>NaN</td>\n",
       "      <td>NaN</td>\n",
       "      <td>NaN</td>\n",
       "      <td>NaN</td>\n",
       "    </tr>\n",
       "    <tr>\n",
       "      <th>506</th>\n",
       "      <td>1</td>\n",
       "      <td>1</td>\n",
       "      <td>4</td>\n",
       "      <td>4</td>\n",
       "      <td>(166.55999755859375, 323.9100036621094, 281.38...</td>\n",
       "      <td>0</td>\n",
       "      <td>0</td>\n",
       "      <td>(1.0, 0.0)</td>\n",
       "      <td>(166.55999755859375, 323.9100036621094, 281.38...</td>\n",
       "      <td>0</td>\n",
       "      <td>...</td>\n",
       "      <td>TOME PREMIER</td>\n",
       "      <td>4</td>\n",
       "      <td>NaN</td>\n",
       "      <td>NaN</td>\n",
       "      <td>NaN</td>\n",
       "      <td>NaN</td>\n",
       "      <td>NaN</td>\n",
       "      <td>NaN</td>\n",
       "      <td>NaN</td>\n",
       "      <td>NaN</td>\n",
       "    </tr>\n",
       "    <tr>\n",
       "      <th>...</th>\n",
       "      <td>...</td>\n",
       "      <td>...</td>\n",
       "      <td>...</td>\n",
       "      <td>...</td>\n",
       "      <td>...</td>\n",
       "      <td>...</td>\n",
       "      <td>...</td>\n",
       "      <td>...</td>\n",
       "      <td>...</td>\n",
       "      <td>...</td>\n",
       "      <td>...</td>\n",
       "      <td>...</td>\n",
       "      <td>...</td>\n",
       "      <td>...</td>\n",
       "      <td>...</td>\n",
       "      <td>...</td>\n",
       "      <td>...</td>\n",
       "      <td>...</td>\n",
       "      <td>...</td>\n",
       "      <td>...</td>\n",
       "      <td>...</td>\n",
       "    </tr>\n",
       "    <tr>\n",
       "      <th>1761774</th>\n",
       "      <td>1</td>\n",
       "      <td>641</td>\n",
       "      <td>4</td>\n",
       "      <td>6</td>\n",
       "      <td>(154.0800018310547, 284.6300048828125, 227.289...</td>\n",
       "      <td>0</td>\n",
       "      <td>0</td>\n",
       "      <td>(1.0, 0.0)</td>\n",
       "      <td>(154.0800018310547, 284.6300048828125, 227.289...</td>\n",
       "      <td>0</td>\n",
       "      <td>...</td>\n",
       "      <td>JUILLET</td>\n",
       "      <td>20</td>\n",
       "      <td>NaN</td>\n",
       "      <td>NaN</td>\n",
       "      <td>NaN</td>\n",
       "      <td>NaN</td>\n",
       "      <td>NaN</td>\n",
       "      <td>NaN</td>\n",
       "      <td>NaN</td>\n",
       "      <td>NaN</td>\n",
       "    </tr>\n",
       "    <tr>\n",
       "      <th>1761781</th>\n",
       "      <td>1</td>\n",
       "      <td>641</td>\n",
       "      <td>5</td>\n",
       "      <td>7</td>\n",
       "      <td>(134.63999938964844, 294.22998046875, 245.3221...</td>\n",
       "      <td>0</td>\n",
       "      <td>0</td>\n",
       "      <td>(1.0, 0.0)</td>\n",
       "      <td>(134.63999938964844, 294.22998046875, 245.3221...</td>\n",
       "      <td>0</td>\n",
       "      <td>...</td>\n",
       "      <td>MIL NEUF CENT SOIXANTE-SIX</td>\n",
       "      <td>20</td>\n",
       "      <td>NaN</td>\n",
       "      <td>NaN</td>\n",
       "      <td>NaN</td>\n",
       "      <td>NaN</td>\n",
       "      <td>NaN</td>\n",
       "      <td>NaN</td>\n",
       "      <td>NaN</td>\n",
       "      <td>NaN</td>\n",
       "    </tr>\n",
       "    <tr>\n",
       "      <th>1761784</th>\n",
       "      <td>1</td>\n",
       "      <td>641</td>\n",
       "      <td>5</td>\n",
       "      <td>7</td>\n",
       "      <td>(134.63999938964844, 294.22998046875, 245.3221...</td>\n",
       "      <td>0</td>\n",
       "      <td>0</td>\n",
       "      <td>(1.0, 0.0)</td>\n",
       "      <td>(134.63999938964844, 294.22998046875, 245.3221...</td>\n",
       "      <td>0</td>\n",
       "      <td>...</td>\n",
       "      <td>NEUF CENT SOIXANTE-SIX</td>\n",
       "      <td>20</td>\n",
       "      <td>NaN</td>\n",
       "      <td>NaN</td>\n",
       "      <td>NaN</td>\n",
       "      <td>NaN</td>\n",
       "      <td>NaN</td>\n",
       "      <td>NaN</td>\n",
       "      <td>NaN</td>\n",
       "      <td>NaN</td>\n",
       "    </tr>\n",
       "    <tr>\n",
       "      <th>1761788</th>\n",
       "      <td>1</td>\n",
       "      <td>641</td>\n",
       "      <td>5</td>\n",
       "      <td>7</td>\n",
       "      <td>(134.63999938964844, 294.22998046875, 245.3221...</td>\n",
       "      <td>0</td>\n",
       "      <td>0</td>\n",
       "      <td>(1.0, 0.0)</td>\n",
       "      <td>(134.63999938964844, 294.22998046875, 245.3221...</td>\n",
       "      <td>0</td>\n",
       "      <td>...</td>\n",
       "      <td>CENT SOIXANTE-SIX</td>\n",
       "      <td>20</td>\n",
       "      <td>NaN</td>\n",
       "      <td>NaN</td>\n",
       "      <td>NaN</td>\n",
       "      <td>NaN</td>\n",
       "      <td>NaN</td>\n",
       "      <td>NaN</td>\n",
       "      <td>NaN</td>\n",
       "      <td>NaN</td>\n",
       "    </tr>\n",
       "    <tr>\n",
       "      <th>1761792</th>\n",
       "      <td>1</td>\n",
       "      <td>641</td>\n",
       "      <td>5</td>\n",
       "      <td>7</td>\n",
       "      <td>(134.63999938964844, 294.22998046875, 245.3221...</td>\n",
       "      <td>0</td>\n",
       "      <td>0</td>\n",
       "      <td>(1.0, 0.0)</td>\n",
       "      <td>(134.63999938964844, 294.22998046875, 245.3221...</td>\n",
       "      <td>0</td>\n",
       "      <td>...</td>\n",
       "      <td>SOIXANTE-SIX</td>\n",
       "      <td>20</td>\n",
       "      <td>NaN</td>\n",
       "      <td>NaN</td>\n",
       "      <td>NaN</td>\n",
       "      <td>NaN</td>\n",
       "      <td>NaN</td>\n",
       "      <td>NaN</td>\n",
       "      <td>NaN</td>\n",
       "      <td>NaN</td>\n",
       "    </tr>\n",
       "  </tbody>\n",
       "</table>\n",
       "<p>3221 rows × 39 columns</p>\n",
       "</div>"
      ],
      "text/plain": [
       "        vol_num  page_num  block_num  block_num_absolute  \\\n",
       "486           1         1          2                   2   \n",
       "489           1         1          3                   3   \n",
       "493           1         1          3                   3   \n",
       "502           1         1          3                   3   \n",
       "506           1         1          4                   4   \n",
       "...         ...       ...        ...                 ...   \n",
       "1761774       1       641          4                   6   \n",
       "1761781       1       641          5                   7   \n",
       "1761784       1       641          5                   7   \n",
       "1761788       1       641          5                   7   \n",
       "1761792       1       641          5                   7   \n",
       "\n",
       "                                                block_bbox  line_num  \\\n",
       "486      (215.52000427246094, 218.25149536132812, 232.4...         0   \n",
       "489      (151.1999969482422, 239.97000122070312, 296.83...         0   \n",
       "493      (151.1999969482422, 239.97000122070312, 296.83...         0   \n",
       "502      (151.1999969482422, 239.97000122070312, 296.83...         0   \n",
       "506      (166.55999755859375, 323.9100036621094, 281.38...         0   \n",
       "...                                                    ...       ...   \n",
       "1761774  (154.0800018310547, 284.6300048828125, 227.289...         0   \n",
       "1761781  (134.63999938964844, 294.22998046875, 245.3221...         0   \n",
       "1761784  (134.63999938964844, 294.22998046875, 245.3221...         0   \n",
       "1761788  (134.63999938964844, 294.22998046875, 245.3221...         0   \n",
       "1761792  (134.63999938964844, 294.22998046875, 245.3221...         0   \n",
       "\n",
       "         line_wmode    line_dir  \\\n",
       "486               0  (1.0, 0.0)   \n",
       "489               0  (1.0, 0.0)   \n",
       "493               0  (1.0, 0.0)   \n",
       "502               0  (1.0, 0.0)   \n",
       "506               0  (1.0, 0.0)   \n",
       "...             ...         ...   \n",
       "1761774           0  (1.0, 0.0)   \n",
       "1761781           0  (1.0, 0.0)   \n",
       "1761784           0  (1.0, 0.0)   \n",
       "1761788           0  (1.0, 0.0)   \n",
       "1761792           0  (1.0, 0.0)   \n",
       "\n",
       "                                                 line_bbox  span_num  ...  \\\n",
       "486      (215.52000427246094, 218.25149536132812, 232.4...         0  ...   \n",
       "489      (151.1999969482422, 239.97000122070312, 296.83...         0  ...   \n",
       "493      (151.1999969482422, 239.97000122070312, 296.83...         0  ...   \n",
       "502      (151.1999969482422, 239.97000122070312, 296.83...         0  ...   \n",
       "506      (166.55999755859375, 323.9100036621094, 281.38...         0  ...   \n",
       "...                                                    ...       ...  ...   \n",
       "1761774  (154.0800018310547, 284.6300048828125, 227.289...         0  ...   \n",
       "1761781  (134.63999938964844, 294.22998046875, 245.3221...         0  ...   \n",
       "1761784  (134.63999938964844, 294.22998046875, 245.3221...         0  ...   \n",
       "1761788  (134.63999938964844, 294.22998046875, 245.3221...         0  ...   \n",
       "1761792  (134.63999938964844, 294.22998046875, 245.3221...         0  ...   \n",
       "\n",
       "                            4_words  4_flags 1_words_match  \\\n",
       "486                          PAR           4           NaN   \n",
       "489            PAUL MOUTERDE, S.J.         4           NaN   \n",
       "493                MOUTERDE, S.J.          4           NaN   \n",
       "502                         S.J.           4           NaN   \n",
       "506                  TOME PREMIER          4           NaN   \n",
       "...                             ...      ...           ...   \n",
       "1761774                  JUILLET          20           NaN   \n",
       "1761781  MIL NEUF CENT SOIXANTE-SIX       20           NaN   \n",
       "1761784     NEUF CENT SOIXANTE-SIX        20           NaN   \n",
       "1761788         CENT SOIXANTE-SIX         20           NaN   \n",
       "1761792             SOIXANTE-SIX          20           NaN   \n",
       "\n",
       "         1_words_match_score  2_words_match  2_words_match_score  \\\n",
       "486                      NaN            NaN                  NaN   \n",
       "489                      NaN            NaN                  NaN   \n",
       "493                      NaN            NaN                  NaN   \n",
       "502                      NaN            NaN                  NaN   \n",
       "506                      NaN            NaN                  NaN   \n",
       "...                      ...            ...                  ...   \n",
       "1761774                  NaN            NaN                  NaN   \n",
       "1761781                  NaN            NaN                  NaN   \n",
       "1761784                  NaN            NaN                  NaN   \n",
       "1761788                  NaN            NaN                  NaN   \n",
       "1761792                  NaN            NaN                  NaN   \n",
       "\n",
       "        3_words_match 3_words_match_score  4_words_match 4_words_match_score  \n",
       "486               NaN                 NaN            NaN                 NaN  \n",
       "489               NaN                 NaN            NaN                 NaN  \n",
       "493               NaN                 NaN            NaN                 NaN  \n",
       "502               NaN                 NaN            NaN                 NaN  \n",
       "506               NaN                 NaN            NaN                 NaN  \n",
       "...               ...                 ...            ...                 ...  \n",
       "1761774           NaN                 NaN            NaN                 NaN  \n",
       "1761781           NaN                 NaN            NaN                 NaN  \n",
       "1761784           NaN                 NaN            NaN                 NaN  \n",
       "1761788           NaN                 NaN            NaN                 NaN  \n",
       "1761792           NaN                 NaN            NaN                 NaN  \n",
       "\n",
       "[3221 rows x 39 columns]"
      ]
     },
     "execution_count": 170,
     "metadata": {},
     "output_type": "execute_result"
    }
   ],
   "source": [
    "vol1_word_df[(vol1_word_df['line_bbox'].apply(lambda x : x[0] > 120)) & (vol1_word_df['word'].str.isupper())]"
   ]
  },
  {
   "cell_type": "code",
   "execution_count": 174,
   "metadata": {},
   "outputs": [],
   "source": [
    "#possible_stops = vol1_word_df[((vol1_word_df['word'].str.isupper()) & (vol1_word_df['pruned_word'].apply(len) > 2)) | (vol1_word_df['word'].isin(vol1_genera))]\n",
    "genus_parts = vol1_word_df[(vol1_word_df['word'].isin(vol1_genera))] #or technically doing a close match etc \n",
    "middle_uppers = vol1_word_df[(vol1_word_df['line_bbox'].apply(lambda x : x[0] > 120)) & (vol1_word_df['word'].str.isupper())]\n",
    "possible_stops = vol1_word_df[((vol1_word_df['word'].isin(vol1_genera))) | ((vol1_word_df['line_bbox'].apply(lambda x : x[0] > 120)) & (vol1_word_df['word'].str.isupper()) & (vol1_word_df['pruned_word'].apply(len) > 2))]"
   ]
  },
  {
   "cell_type": "code",
   "execution_count": 175,
   "metadata": {},
   "outputs": [],
   "source": [
    "# reset doc:\n",
    "vol1_doc = fitz.open(vol1_path)\n",
    "vol2_doc = fitz.open(vol2_path)\n",
    "vol3_doc = fitz.open(vol3_path)"
   ]
  },
  {
   "cell_type": "code",
   "execution_count": 176,
   "metadata": {},
   "outputs": [
    {
     "name": "stderr",
     "output_type": "stream",
     "text": [
      "100%|██████████| 1803/1803 [00:00<00:00, 5685.06it/s]\n"
     ]
    }
   ],
   "source": [
    "#possible_stops = genus_parts \n",
    "for i in tqdm(possible_stops.index):\n",
    "    page_num = int(possible_stops.loc[i, 'page_num'])\n",
    "    block_bbox = possible_stops.loc[i, 'block_bbox']\n",
    "    block_bbox = possible_stops.loc[i, 'block_bbox']\n",
    "    word_bbox = possible_stops.loc[i, 'word_bbox']\n",
    "    page = vol1_doc[page_num]\n",
    "    r_high = fitz.Rect(word_bbox)\n",
    "    r_box = fitz.Rect(block_bbox)\n",
    "    annot_high = page.add_highlight_annot(r_high)\n",
    "    annot_high.set_colors(stroke=getColor(\"antiquewhite\"))\n",
    "    annot_rect = page.add_rect_annot(r_box)\n",
    "    annot_high.update()\n",
    "    annot_rect.update()\n",
    "\n",
    "marked_epithet_fname = \"../output/local/main_text/stop_v2.pdf\"\n",
    "vol1_doc.save(marked_epithet_fname)"
   ]
  },
  {
   "cell_type": "code",
   "execution_count": 184,
   "metadata": {},
   "outputs": [
    {
     "name": "stderr",
     "output_type": "stream",
     "text": [
      "100%|██████████| 316313/316313 [00:01<00:00, 166711.11it/s]\n"
     ]
    }
   ],
   "source": [
    "vol1_word_df['line_id'] = vol1_word_df.progress_apply(lambda r : (r['page_num'], r['block_num'], r['line_num']), axis = 1) "
   ]
  },
  {
   "cell_type": "code",
   "execution_count": 190,
   "metadata": {},
   "outputs": [],
   "source": [
    "is_binomial = ((~(vol1_word_df['1_flags'].apply(is_italic)) & (vol1_word_df['1_words_match_score'] > 0.85)) | \n",
    "               (~(vol1_word_df['2_flags'].apply(is_italic)) & (vol1_word_df['2_words_match_score'] > 0.85)) | \n",
    "               (~(vol1_word_df['3_flags'].apply(is_italic)) & (vol1_word_df['3_words_match_score'] > 0.85)) | \n",
    "               (~(vol1_word_df['1_flags'].apply(is_italic)) & (vol1_word_df['1_words_match_score'] > 0.85))) \n",
    "\n",
    "is_stop = (((vol1_word_df['word'].isin(vol1_genera))) | \n",
    "           ((vol1_word_df['line_bbox'].apply(lambda x : x[0] > 120)) & \n",
    "            (vol1_word_df['word'].str.isupper()) & \n",
    "            (vol1_word_df['pruned_word'].apply(len) > 2)))\n",
    "\n",
    "break_page_num = vol1_word_df[(is_binomial) | (is_stop)]['page_num']\n",
    "break_block_num = vol1_word_df[(is_binomial) | (is_stop)]['block_num']\n",
    "break_line_num = vol1_word_df[(is_binomial) | (is_stop)]['line_num']\n",
    "break_id = list(zip(break_page_num, break_block_num, break_line_num))\n",
    "vol1_word_df['section_break'] = vol1_word_df['line_id'].isin(break_id)"
   ]
  },
  {
   "cell_type": "code",
   "execution_count": 195,
   "metadata": {},
   "outputs": [
    {
     "name": "stderr",
     "output_type": "stream",
     "text": [
      "100%|██████████| 316313/316313 [00:01<00:00, 258685.41it/s]\n"
     ]
    }
   ],
   "source": [
    "def get_section_id(row):\n",
    "    if row['section_break'] == True:\n",
    "        return row['line_id']\n",
    "    else:\n",
    "        return np.nan\n",
    "vol1_word_df['section_id'] = vol1_word_df.progress_apply(get_section_id, axis = 1)"
   ]
  },
  {
   "cell_type": "code",
   "execution_count": 199,
   "metadata": {},
   "outputs": [],
   "source": [
    "vol1_word_df['section_id'].ffill(inplace=True)"
   ]
  },
  {
   "cell_type": "code",
   "execution_count": 216,
   "metadata": {},
   "outputs": [
    {
     "name": "stderr",
     "output_type": "stream",
     "text": [
      "100%|██████████| 316313/316313 [00:01<00:00, 256695.08it/s]\n"
     ]
    }
   ],
   "source": [
    "def get_section_start_y(row):\n",
    "    if row['section_break'] == True:\n",
    "        return row['line_bbox'][1]\n",
    "    else:\n",
    "        return np.nan\n",
    "# ssection break start y ... making sure we didn't \"go up\" in ffil\n",
    "vol1_word_df['section_start_y'] = vol1_word_df.progress_apply(get_section_start_y, axis = 1)\n",
    "vol1_word_df['section_start_y'].ffill(inplace=True)"
   ]
  },
  {
   "cell_type": "code",
   "execution_count": null,
   "metadata": {},
   "outputs": [],
   "source": [
    "def get_section_start_y(row):\n",
    "    if row['section_break'] == True:\n",
    "        return row['line_bbox'][1]\n",
    "    else:\n",
    "        return np.nan\n",
    "# ssection break start y ... making sure we didn't \"go up\" in ffil\n",
    "vol1_word_df['section_start_y'] = vol1_word_df.progress_apply(get_section_start_y, axis = 1)\n",
    "vol1_word_df['section_start_y'].ffill(inplace=True)"
   ]
  },
  {
   "cell_type": "code",
   "execution_count": 219,
   "metadata": {},
   "outputs": [],
   "source": [
    "# break down line coords\n",
    "vol1_word_df['line_x0'] = vol1_word_df[\"line_bbox\"].apply(lambda x: x[0])\n",
    "vol1_word_df['line_y0'] = vol1_word_df[\"line_bbox\"].apply(lambda x: x[1])\n",
    "vol1_word_df['line_x1'] = vol1_word_df[\"line_bbox\"].apply(lambda x: x[2])\n",
    "vol1_word_df['line_y1'] = vol1_word_df[\"line_bbox\"].apply(lambda x: x[3])\n",
    "\n",
    "#sections_coords: \n",
    "vol1_word_df[\"section_x0\"] = vol1_word_df.groupby('section_id')['line_x0'].transform('min')\n",
    "vol1_word_df[\"section_y0_all\"] = vol1_word_df.groupby('section_id')['line_y0'].transform('min')\n",
    "vol1_word_df[\"section_y0\"] = vol1_word_df[['section_y0_all','section_start_y']].max(axis=1)\n",
    "vol1_word_df[\"section_x1\"] = vol1_word_df.groupby('section_id')['line_x1'].transform('max')\n",
    "vol1_word_df[\"section_y1\"] = vol1_word_df.groupby('section_id')['line_y1'].transform('max')\n",
    "\n",
    "#section_bbox:\n",
    "vol1_word_df[\"section_bbox\"] = vol1_word_df.apply(lambda r: (r[\"section_x0\"], r[\"section_y0\"], r[\"section_x1\"], r[\"section_y1\"]), axis = 1)\n",
    "\n",
    "#drop extra cols:\n",
    "vol1_word_df.drop(columns= [\"line_x0\", \"line_y0\", \"line_x1\", \"line_y1\", \"section_x0\", \"section_y0\", \"section_x1\", \"section_y1\"], inplace = True)"
   ]
  },
  {
   "cell_type": "code",
   "execution_count": 220,
   "metadata": {},
   "outputs": [],
   "source": [
    "# reset doc:\n",
    "vol1_doc = fitz.open(vol1_path)\n",
    "vol2_doc = fitz.open(vol2_path)\n",
    "vol3_doc = fitz.open(vol3_path)"
   ]
  },
  {
   "cell_type": "code",
   "execution_count": 206,
   "metadata": {},
   "outputs": [
    {
     "name": "stderr",
     "output_type": "stream",
     "text": [
      "100%|██████████| 316313/316313 [03:15<00:00, 1619.81it/s]\n"
     ]
    }
   ],
   "source": [
    "# section_groups = vol1_word_df.groupby('section_id')\n",
    "# for name, section in tqdm(section_groups):\n",
    "#     #for each group in the section ids I need to do the following:\n",
    "#     page_num = int(vol1_word_df.loc[i, 'page_num'])\n",
    "#     # block_bbox = vol1_word_df.loc[i, 'block_bbox']\n",
    "#     # block_bbox = vol1_word_df.loc[i, 'block_bbox']\n",
    "#     section_bbox = vol1_word_df.loc[i, 'section_bbox']\n",
    "#     page = vol1_doc[page_num]\n",
    "#     r_box = fitz.Rect(section_bbox)\n",
    "#     #annot_high = page.add_highlight_annot(r_high)\n",
    "#     #annot_high.set_colors(stroke=getColor(\"antiquewhite\"))\n",
    "#     annot_rect = page.add_rect_annot(r_box)\n",
    "#     #annot_high.update()\n",
    "#     annot_rect.update()\n",
    "\n",
    "\n",
    "# marked_epithet_fname = \"../output/local/main_text/sections_v1.pdf\"\n",
    "# vol1_doc.save(marked_epithet_fname)"
   ]
  },
  {
   "cell_type": "code",
   "execution_count": 221,
   "metadata": {},
   "outputs": [
    {
     "name": "stderr",
     "output_type": "stream",
     "text": [
      "100%|██████████| 2228/2228 [00:00<00:00, 3319.53it/s]\n"
     ]
    }
   ],
   "source": [
    "vol1_doc = fitz.open(vol1_path)\n",
    "vol2_doc = fitz.open(vol2_path)\n",
    "vol3_doc = fitz.open(vol3_path)\n",
    "\n",
    "section_groups = vol1_word_df.groupby('section_id')\n",
    "for name, section in tqdm(section_groups):\n",
    "    page_num = int(name[0])\n",
    "    page = vol1_doc[page_num]\n",
    "    section_bbox = section.iloc[0]['section_bbox']\n",
    "    r_box = fitz.Rect(section_bbox)\n",
    "    annot_rect = page.add_rect_annot(r_box)\n",
    "    annot_rect.update()\n",
    "\n",
    "marked_epithet_fname = \"../output/local/main_text/sections_v3.pdf\"\n",
    "vol1_doc.save(marked_epithet_fname)"
   ]
  },
  {
   "cell_type": "code",
   "execution_count": 222,
   "metadata": {},
   "outputs": [],
   "source": [
    "binom_page_num = vol1_word_df[(is_binomial)]['page_num']\n",
    "binom_block_num = vol1_word_df[(is_binomial)]['block_num']\n",
    "binom_line_num = vol1_word_df[(is_binomial)]['line_num']\n",
    "binom_id = list(zip(binom_page_num, binom_block_num, binom_line_num))\n",
    "vol1_word_df['binom_section'] = vol1_word_df['line_id'].isin(binom_id)"
   ]
  },
  {
   "cell_type": "code",
   "execution_count": 224,
   "metadata": {},
   "outputs": [
    {
     "name": "stderr",
     "output_type": "stream",
     "text": [
      "100%|██████████| 2228/2228 [00:00<00:00, 5000.08it/s]\n"
     ]
    }
   ],
   "source": [
    "vol1_doc = fitz.open(vol1_path)\n",
    "vol2_doc = fitz.open(vol2_path)\n",
    "vol3_doc = fitz.open(vol3_path)\n",
    "\n",
    "section_groups = vol1_word_df.groupby('section_id')\n",
    "for name, section in tqdm(section_groups):\n",
    "    page_num = int(name[0])\n",
    "    page = vol1_doc[page_num]\n",
    "    section_id = section.iloc[0]['section_id']\n",
    "    section_bbox = section.iloc[0]['section_bbox']\n",
    "    if section_id in binom_id:\n",
    "        r_box = fitz.Rect(section_bbox)\n",
    "        annot_rect = page.add_rect_annot(r_box)\n",
    "        annot_rect.update()\n",
    "\n",
    "marked_epithet_fname = \"../output/local/main_text/binom_sections_v0.pdf\"\n",
    "vol1_doc.save(marked_epithet_fname)"
   ]
  },
  {
   "cell_type": "code",
   "execution_count": 225,
   "metadata": {},
   "outputs": [],
   "source": [
    "# and this is pretty great :)"
   ]
  },
  {
   "cell_type": "code",
   "execution_count": 240,
   "metadata": {},
   "outputs": [
    {
     "name": "stderr",
     "output_type": "stream",
     "text": [
      "100%|██████████| 2228/2228 [00:00<00:00, 3505.32it/s]\n"
     ]
    }
   ],
   "source": [
    "vol1_doc = fitz.open(vol1_path)\n",
    "vol2_doc = fitz.open(vol2_path)\n",
    "vol3_doc = fitz.open(vol3_path)\n",
    "\n",
    "section_groups = vol1_word_df.groupby('section_id')\n",
    "prev_sec = None\n",
    "for name, section in tqdm(section_groups):\n",
    "    cont = section['word'].isin(['NOUVELLE', 'FLORE']).any()\n",
    "    page_num = int(name[0])\n",
    "    page = vol1_doc[page_num]\n",
    "    section_id = section.iloc[0]['section_id']\n",
    "    section_bbox = section.iloc[0]['section_bbox']\n",
    "    if section_id in binom_id or (cont and (prev_sec in binom_id)):\n",
    "        r_box = fitz.Rect(section_bbox)\n",
    "        annot_rect = page.add_rect_annot(r_box)\n",
    "        annot_rect.update()\n",
    "    prev_sec = section_id\n",
    "marked_epithet_fname = \"../output/local/main_text/binom_sections_page_cont_v1.pdf\"\n",
    "vol1_doc.save(marked_epithet_fname)"
   ]
  },
  {
   "cell_type": "code",
   "execution_count": null,
   "metadata": {},
   "outputs": [],
   "source": [
    "# prev cont -- not tested\n",
    "\n",
    "vol1_doc = fitz.open(vol1_path)\n",
    "vol2_doc = fitz.open(vol2_path)\n",
    "vol3_doc = fitz.open(vol3_path)\n",
    "\n",
    "section_groups = vol1_word_df.groupby('section_id')\n",
    "prev_sec = None\n",
    "prev_cont = True\n",
    "for name, section in tqdm(section_groups):\n",
    "    cont = section['word'].isin(['NOUVELLE', 'FLORE']).any()\n",
    "    page_num = int(name[0])\n",
    "    page = vol1_doc[page_num]\n",
    "    section_id = section.iloc[0]['section_id']\n",
    "    section_bbox = section.iloc[0]['section_bbox']\n",
    "    if section_id in binom_id or (cont and (prev_sec in binom_id)) or (cont and prev_cont):\n",
    "        r_box = fitz.Rect(section_bbox)\n",
    "        annot_rect = page.add_rect_annot(r_box)\n",
    "        annot_rect.update()\n",
    "    if cont or prev_cont:\n",
    "        prev_cont = True\n",
    "    else: \n",
    "        prev_cont = False\n",
    "    prev_sec = section_id"
   ]
  },
  {
   "cell_type": "code",
   "execution_count": 241,
   "metadata": {},
   "outputs": [],
   "source": [
    "vol1_word_df.to_pickle(\"../input/desc_box_df/vol1_desc_df.pkl\")"
   ]
  },
  {
   "cell_type": "code",
   "execution_count": 242,
   "metadata": {},
   "outputs": [
    {
     "name": "stderr",
     "output_type": "stream",
     "text": [
      "100%|██████████| 2228/2228 [00:00<00:00, 2718.45it/s]\n"
     ]
    }
   ],
   "source": [
    "vol1_doc = fitz.open(vol1_path)\n",
    "vol2_doc = fitz.open(vol2_path)\n",
    "vol3_doc = fitz.open(vol3_path)\n",
    "vol1_doc = fitz.open(\"/Users/shidedehghani/Library/Mobile Documents/com~apple~CloudDocs/Research/rLAB/Maryam's_repo/Aaron/results-book-1.pdf\")\n",
    "section_groups = vol1_word_df.groupby('section_id')\n",
    "prev_sec = None\n",
    "for name, section in tqdm(section_groups):\n",
    "    cont = section['word'].isin(['NOUVELLE', 'FLORE']).any()\n",
    "    page_num = int(name[0])\n",
    "    page = vol1_doc[page_num]\n",
    "    section_id = section.iloc[0]['section_id']\n",
    "    section_bbox = section.iloc[0]['section_bbox']\n",
    "    if section_id in binom_id or (cont and (prev_sec in binom_id)):\n",
    "        r_box = fitz.Rect(section_bbox)\n",
    "        annot_rect = page.add_rect_annot(r_box)\n",
    "        annot_rect.update()\n",
    "    prev_sec = section_id\n",
    "marked_epithet_fname = \"../output/local/main_text/arronXme_vol1_v1.pdf\"\n",
    "vol1_doc.save(marked_epithet_fname)"
   ]
  },
  {
   "cell_type": "code",
   "execution_count": null,
   "metadata": {},
   "outputs": [],
   "source": []
  }
 ],
 "metadata": {
  "kernelspec": {
   "display_name": "Python 3.10.10 64-bit",
   "language": "python",
   "name": "python3"
  },
  "language_info": {
   "codemirror_mode": {
    "name": "ipython",
    "version": 3
   },
   "file_extension": ".py",
   "mimetype": "text/x-python",
   "name": "python",
   "nbconvert_exporter": "python",
   "pygments_lexer": "ipython3",
   "version": "3.10.10"
  },
  "orig_nbformat": 4,
  "vscode": {
   "interpreter": {
    "hash": "bd385fe162c5ca0c84973b7dd5c518456272446b2b64e67c2a69f949ca7a1754"
   }
  }
 },
 "nbformat": 4,
 "nbformat_minor": 2
}
